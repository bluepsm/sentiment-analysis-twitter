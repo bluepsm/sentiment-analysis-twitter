{
  "nbformat": 4,
  "nbformat_minor": 0,
  "metadata": {
    "colab": {
      "provenance": [],
      "toc_visible": true,
      "mount_file_id": "1f64xIiAzpsZpCk-Y4whDzSyAzT_hxjfV",
      "authorship_tag": "ABX9TyNM4q3q30uhY14Fs9NrHcF6",
      "include_colab_link": true
    },
    "kernelspec": {
      "name": "python3",
      "display_name": "Python 3"
    },
    "language_info": {
      "name": "python"
    }
  },
  "cells": [
    {
      "cell_type": "markdown",
      "metadata": {
        "id": "view-in-github",
        "colab_type": "text"
      },
      "source": [
        "<a href=\"https://colab.research.google.com/github/bluepsm/sentiment-analysis-twitter/blob/main/sentiment_analysis_twitter.ipynb\" target=\"_parent\"><img src=\"https://colab.research.google.com/assets/colab-badge.svg\" alt=\"Open In Colab\"/></a>"
      ]
    },
    {
      "cell_type": "markdown",
      "source": [
        "#Sentiment Analysis on Tweets"
      ],
      "metadata": {
        "id": "QLwp356aQ6SY"
      }
    },
    {
      "cell_type": "markdown",
      "source": [
        "**Objective:** Classify tweets as positive, negative, or neutral.\n",
        "\n",
        "**Skills:** Natural Language Processing (NLP), text preprocessing, sentiment analysis, word embeddings, neural networks (e.g., LSTM)."
      ],
      "metadata": {
        "id": "usCIb84jSJDM"
      }
    },
    {
      "cell_type": "code",
      "source": [
        "# @title Import library\n",
        "import chardet\n",
        "import pandas as pd\n",
        "import matplotlib.pyplot as plt\n",
        "import seaborn as sns\n",
        "\n",
        "from sklearn.model_selection import train_test_split\n",
        "import html\n",
        "import re\n",
        "import nltk\n",
        "from nltk.corpus import stopwords\n",
        "from nltk.tokenize import word_tokenize\n",
        "from nltk.stem import PorterStemmer, WordNetLemmatizer\n",
        "from nltk.sentiment.vader import SentimentIntensityAnalyzer\n",
        "from sklearn.feature_extraction.text import CountVectorizer\n",
        "from sklearn.linear_model import LogisticRegression\n",
        "from sklearn.metrics import accuracy_score, confusion_matrix, ConfusionMatrixDisplay, classification_report\n",
        "from keras.models import Sequential\n",
        "from keras.preprocessing.text import Tokenizer\n",
        "from keras.preprocessing.sequence import pad_sequences\n",
        "from keras.layers import Dense, Embedding, LSTM, SpatialDropout1D, Bidirectional\n",
        "from sklearn.preprocessing import LabelEncoder\n",
        "from keras.utils import to_categorical"
      ],
      "metadata": {
        "id": "y3Jlkt_oRR_s"
      },
      "execution_count": 228,
      "outputs": []
    },
    {
      "cell_type": "code",
      "source": [
        "#@title Find encoding of dataset\n",
        "# with open('/content/drive/MyDrive/datasets/twitter/twitter.csv', 'rb') as f:\n",
        "#   encoding = chardet.detect(f.read())\n",
        "\n",
        "# encoding['encoding']"
      ],
      "metadata": {
        "id": "uQI1ZiFHTsYF"
      },
      "execution_count": 229,
      "outputs": []
    },
    {
      "cell_type": "code",
      "source": [
        "#@title Import dataset\n",
        "colnames = ['target', 'id', 'date', 'flag', 'user', 'text']\n",
        "\n",
        "dataset = pd.read_csv('/content/drive/MyDrive/datasets/twitter/twitter.csv', names=colnames, encoding='Windows-1252')\n",
        "\n",
        "dataset = dataset.sample(n=20000, random_state=42)\n",
        "\n",
        "sentiment = {0: 'negative', 4: 'positive'}\n",
        "dataset['target'] = dataset['target'].map(sentiment)\n",
        "\n",
        "dataset.sample(10)"
      ],
      "metadata": {
        "id": "rtyIBM_uc7pc",
        "colab": {
          "base_uri": "https://localhost:8080/",
          "height": 363
        },
        "outputId": "e1dc5d98-1d4c-47d7-c671-ca2a9e05d5f6"
      },
      "execution_count": 230,
      "outputs": [
        {
          "output_type": "execute_result",
          "data": {
            "text/plain": [
              "           target          id                          date      flag  \\\n",
              "1284594  positive  2002061135  Tue Jun 02 03:00:46 PDT 2009  NO_QUERY   \n",
              "337778   negative  2014286533  Wed Jun 03 01:02:01 PDT 2009  NO_QUERY   \n",
              "504917   negative  2188256979  Mon Jun 15 21:34:15 PDT 2009  NO_QUERY   \n",
              "1255115  positive  1997217672  Mon Jun 01 16:27:46 PDT 2009  NO_QUERY   \n",
              "696312   negative  2253490410  Sat Jun 20 08:15:28 PDT 2009  NO_QUERY   \n",
              "930490   positive  1760358225  Sun May 10 21:19:14 PDT 2009  NO_QUERY   \n",
              "410152   negative  2059811832  Sat Jun 06 17:41:07 PDT 2009  NO_QUERY   \n",
              "659561   negative  2242189899  Fri Jun 19 11:52:58 PDT 2009  NO_QUERY   \n",
              "1549536  positive  2183476568  Mon Jun 15 14:33:29 PDT 2009  NO_QUERY   \n",
              "1128786  positive  1975410285  Sat May 30 15:05:55 PDT 2009  NO_QUERY   \n",
              "\n",
              "                    user                                               text  \n",
              "1284594       leemack912                    @augustagaliving Goood Morning   \n",
              "337778          Sprookje  still a bit shaky from the confrontation with ...  \n",
              "504917     gypsypleasure           I feel like I'm drowning without water.   \n",
              "1255115        karenisnt            @kaitiecg :awesome: i'll add you then?   \n",
              "696312   Taylorrr_Taylor       aww leaving before i get to check twitter!    \n",
              "930490         theanykey  @canadianfamily The best thing about my Mother...  \n",
              "410152    BloodGutsGlory  @golftippin early goal   out for vacation stay...  \n",
              "659561          KidKJ_21  @JessiDavis_ im so sick of charles barkley! I ...  \n",
              "1549536   strawberryland        I'm so excited now these next two weeks...   \n",
              "1128786  countrymusiclvr  @tonfue hey ther hun &lt;3 sorry but i gtg...i...  "
            ],
            "text/html": [
              "\n",
              "  <div id=\"df-e2865fb3-22b0-4c28-8bf4-17c0b29a4189\" class=\"colab-df-container\">\n",
              "    <div>\n",
              "<style scoped>\n",
              "    .dataframe tbody tr th:only-of-type {\n",
              "        vertical-align: middle;\n",
              "    }\n",
              "\n",
              "    .dataframe tbody tr th {\n",
              "        vertical-align: top;\n",
              "    }\n",
              "\n",
              "    .dataframe thead th {\n",
              "        text-align: right;\n",
              "    }\n",
              "</style>\n",
              "<table border=\"1\" class=\"dataframe\">\n",
              "  <thead>\n",
              "    <tr style=\"text-align: right;\">\n",
              "      <th></th>\n",
              "      <th>target</th>\n",
              "      <th>id</th>\n",
              "      <th>date</th>\n",
              "      <th>flag</th>\n",
              "      <th>user</th>\n",
              "      <th>text</th>\n",
              "    </tr>\n",
              "  </thead>\n",
              "  <tbody>\n",
              "    <tr>\n",
              "      <th>1284594</th>\n",
              "      <td>positive</td>\n",
              "      <td>2002061135</td>\n",
              "      <td>Tue Jun 02 03:00:46 PDT 2009</td>\n",
              "      <td>NO_QUERY</td>\n",
              "      <td>leemack912</td>\n",
              "      <td>@augustagaliving Goood Morning</td>\n",
              "    </tr>\n",
              "    <tr>\n",
              "      <th>337778</th>\n",
              "      <td>negative</td>\n",
              "      <td>2014286533</td>\n",
              "      <td>Wed Jun 03 01:02:01 PDT 2009</td>\n",
              "      <td>NO_QUERY</td>\n",
              "      <td>Sprookje</td>\n",
              "      <td>still a bit shaky from the confrontation with ...</td>\n",
              "    </tr>\n",
              "    <tr>\n",
              "      <th>504917</th>\n",
              "      <td>negative</td>\n",
              "      <td>2188256979</td>\n",
              "      <td>Mon Jun 15 21:34:15 PDT 2009</td>\n",
              "      <td>NO_QUERY</td>\n",
              "      <td>gypsypleasure</td>\n",
              "      <td>I feel like I'm drowning without water.</td>\n",
              "    </tr>\n",
              "    <tr>\n",
              "      <th>1255115</th>\n",
              "      <td>positive</td>\n",
              "      <td>1997217672</td>\n",
              "      <td>Mon Jun 01 16:27:46 PDT 2009</td>\n",
              "      <td>NO_QUERY</td>\n",
              "      <td>karenisnt</td>\n",
              "      <td>@kaitiecg :awesome: i'll add you then?</td>\n",
              "    </tr>\n",
              "    <tr>\n",
              "      <th>696312</th>\n",
              "      <td>negative</td>\n",
              "      <td>2253490410</td>\n",
              "      <td>Sat Jun 20 08:15:28 PDT 2009</td>\n",
              "      <td>NO_QUERY</td>\n",
              "      <td>Taylorrr_Taylor</td>\n",
              "      <td>aww leaving before i get to check twitter!</td>\n",
              "    </tr>\n",
              "    <tr>\n",
              "      <th>930490</th>\n",
              "      <td>positive</td>\n",
              "      <td>1760358225</td>\n",
              "      <td>Sun May 10 21:19:14 PDT 2009</td>\n",
              "      <td>NO_QUERY</td>\n",
              "      <td>theanykey</td>\n",
              "      <td>@canadianfamily The best thing about my Mother...</td>\n",
              "    </tr>\n",
              "    <tr>\n",
              "      <th>410152</th>\n",
              "      <td>negative</td>\n",
              "      <td>2059811832</td>\n",
              "      <td>Sat Jun 06 17:41:07 PDT 2009</td>\n",
              "      <td>NO_QUERY</td>\n",
              "      <td>BloodGutsGlory</td>\n",
              "      <td>@golftippin early goal   out for vacation stay...</td>\n",
              "    </tr>\n",
              "    <tr>\n",
              "      <th>659561</th>\n",
              "      <td>negative</td>\n",
              "      <td>2242189899</td>\n",
              "      <td>Fri Jun 19 11:52:58 PDT 2009</td>\n",
              "      <td>NO_QUERY</td>\n",
              "      <td>KidKJ_21</td>\n",
              "      <td>@JessiDavis_ im so sick of charles barkley! I ...</td>\n",
              "    </tr>\n",
              "    <tr>\n",
              "      <th>1549536</th>\n",
              "      <td>positive</td>\n",
              "      <td>2183476568</td>\n",
              "      <td>Mon Jun 15 14:33:29 PDT 2009</td>\n",
              "      <td>NO_QUERY</td>\n",
              "      <td>strawberryland</td>\n",
              "      <td>I'm so excited now these next two weeks...</td>\n",
              "    </tr>\n",
              "    <tr>\n",
              "      <th>1128786</th>\n",
              "      <td>positive</td>\n",
              "      <td>1975410285</td>\n",
              "      <td>Sat May 30 15:05:55 PDT 2009</td>\n",
              "      <td>NO_QUERY</td>\n",
              "      <td>countrymusiclvr</td>\n",
              "      <td>@tonfue hey ther hun &amp;lt;3 sorry but i gtg...i...</td>\n",
              "    </tr>\n",
              "  </tbody>\n",
              "</table>\n",
              "</div>\n",
              "    <div class=\"colab-df-buttons\">\n",
              "\n",
              "  <div class=\"colab-df-container\">\n",
              "    <button class=\"colab-df-convert\" onclick=\"convertToInteractive('df-e2865fb3-22b0-4c28-8bf4-17c0b29a4189')\"\n",
              "            title=\"Convert this dataframe to an interactive table.\"\n",
              "            style=\"display:none;\">\n",
              "\n",
              "  <svg xmlns=\"http://www.w3.org/2000/svg\" height=\"24px\" viewBox=\"0 -960 960 960\">\n",
              "    <path d=\"M120-120v-720h720v720H120Zm60-500h600v-160H180v160Zm220 220h160v-160H400v160Zm0 220h160v-160H400v160ZM180-400h160v-160H180v160Zm440 0h160v-160H620v160ZM180-180h160v-160H180v160Zm440 0h160v-160H620v160Z\"/>\n",
              "  </svg>\n",
              "    </button>\n",
              "\n",
              "  <style>\n",
              "    .colab-df-container {\n",
              "      display:flex;\n",
              "      gap: 12px;\n",
              "    }\n",
              "\n",
              "    .colab-df-convert {\n",
              "      background-color: #E8F0FE;\n",
              "      border: none;\n",
              "      border-radius: 50%;\n",
              "      cursor: pointer;\n",
              "      display: none;\n",
              "      fill: #1967D2;\n",
              "      height: 32px;\n",
              "      padding: 0 0 0 0;\n",
              "      width: 32px;\n",
              "    }\n",
              "\n",
              "    .colab-df-convert:hover {\n",
              "      background-color: #E2EBFA;\n",
              "      box-shadow: 0px 1px 2px rgba(60, 64, 67, 0.3), 0px 1px 3px 1px rgba(60, 64, 67, 0.15);\n",
              "      fill: #174EA6;\n",
              "    }\n",
              "\n",
              "    .colab-df-buttons div {\n",
              "      margin-bottom: 4px;\n",
              "    }\n",
              "\n",
              "    [theme=dark] .colab-df-convert {\n",
              "      background-color: #3B4455;\n",
              "      fill: #D2E3FC;\n",
              "    }\n",
              "\n",
              "    [theme=dark] .colab-df-convert:hover {\n",
              "      background-color: #434B5C;\n",
              "      box-shadow: 0px 1px 3px 1px rgba(0, 0, 0, 0.15);\n",
              "      filter: drop-shadow(0px 1px 2px rgba(0, 0, 0, 0.3));\n",
              "      fill: #FFFFFF;\n",
              "    }\n",
              "  </style>\n",
              "\n",
              "    <script>\n",
              "      const buttonEl =\n",
              "        document.querySelector('#df-e2865fb3-22b0-4c28-8bf4-17c0b29a4189 button.colab-df-convert');\n",
              "      buttonEl.style.display =\n",
              "        google.colab.kernel.accessAllowed ? 'block' : 'none';\n",
              "\n",
              "      async function convertToInteractive(key) {\n",
              "        const element = document.querySelector('#df-e2865fb3-22b0-4c28-8bf4-17c0b29a4189');\n",
              "        const dataTable =\n",
              "          await google.colab.kernel.invokeFunction('convertToInteractive',\n",
              "                                                    [key], {});\n",
              "        if (!dataTable) return;\n",
              "\n",
              "        const docLinkHtml = 'Like what you see? Visit the ' +\n",
              "          '<a target=\"_blank\" href=https://colab.research.google.com/notebooks/data_table.ipynb>data table notebook</a>'\n",
              "          + ' to learn more about interactive tables.';\n",
              "        element.innerHTML = '';\n",
              "        dataTable['output_type'] = 'display_data';\n",
              "        await google.colab.output.renderOutput(dataTable, element);\n",
              "        const docLink = document.createElement('div');\n",
              "        docLink.innerHTML = docLinkHtml;\n",
              "        element.appendChild(docLink);\n",
              "      }\n",
              "    </script>\n",
              "  </div>\n",
              "\n",
              "\n",
              "<div id=\"df-bebbe4c6-86d2-4393-867c-8e8867293833\">\n",
              "  <button class=\"colab-df-quickchart\" onclick=\"quickchart('df-bebbe4c6-86d2-4393-867c-8e8867293833')\"\n",
              "            title=\"Suggest charts\"\n",
              "            style=\"display:none;\">\n",
              "\n",
              "<svg xmlns=\"http://www.w3.org/2000/svg\" height=\"24px\"viewBox=\"0 0 24 24\"\n",
              "     width=\"24px\">\n",
              "    <g>\n",
              "        <path d=\"M19 3H5c-1.1 0-2 .9-2 2v14c0 1.1.9 2 2 2h14c1.1 0 2-.9 2-2V5c0-1.1-.9-2-2-2zM9 17H7v-7h2v7zm4 0h-2V7h2v10zm4 0h-2v-4h2v4z\"/>\n",
              "    </g>\n",
              "</svg>\n",
              "  </button>\n",
              "\n",
              "<style>\n",
              "  .colab-df-quickchart {\n",
              "      --bg-color: #E8F0FE;\n",
              "      --fill-color: #1967D2;\n",
              "      --hover-bg-color: #E2EBFA;\n",
              "      --hover-fill-color: #174EA6;\n",
              "      --disabled-fill-color: #AAA;\n",
              "      --disabled-bg-color: #DDD;\n",
              "  }\n",
              "\n",
              "  [theme=dark] .colab-df-quickchart {\n",
              "      --bg-color: #3B4455;\n",
              "      --fill-color: #D2E3FC;\n",
              "      --hover-bg-color: #434B5C;\n",
              "      --hover-fill-color: #FFFFFF;\n",
              "      --disabled-bg-color: #3B4455;\n",
              "      --disabled-fill-color: #666;\n",
              "  }\n",
              "\n",
              "  .colab-df-quickchart {\n",
              "    background-color: var(--bg-color);\n",
              "    border: none;\n",
              "    border-radius: 50%;\n",
              "    cursor: pointer;\n",
              "    display: none;\n",
              "    fill: var(--fill-color);\n",
              "    height: 32px;\n",
              "    padding: 0;\n",
              "    width: 32px;\n",
              "  }\n",
              "\n",
              "  .colab-df-quickchart:hover {\n",
              "    background-color: var(--hover-bg-color);\n",
              "    box-shadow: 0 1px 2px rgba(60, 64, 67, 0.3), 0 1px 3px 1px rgba(60, 64, 67, 0.15);\n",
              "    fill: var(--button-hover-fill-color);\n",
              "  }\n",
              "\n",
              "  .colab-df-quickchart-complete:disabled,\n",
              "  .colab-df-quickchart-complete:disabled:hover {\n",
              "    background-color: var(--disabled-bg-color);\n",
              "    fill: var(--disabled-fill-color);\n",
              "    box-shadow: none;\n",
              "  }\n",
              "\n",
              "  .colab-df-spinner {\n",
              "    border: 2px solid var(--fill-color);\n",
              "    border-color: transparent;\n",
              "    border-bottom-color: var(--fill-color);\n",
              "    animation:\n",
              "      spin 1s steps(1) infinite;\n",
              "  }\n",
              "\n",
              "  @keyframes spin {\n",
              "    0% {\n",
              "      border-color: transparent;\n",
              "      border-bottom-color: var(--fill-color);\n",
              "      border-left-color: var(--fill-color);\n",
              "    }\n",
              "    20% {\n",
              "      border-color: transparent;\n",
              "      border-left-color: var(--fill-color);\n",
              "      border-top-color: var(--fill-color);\n",
              "    }\n",
              "    30% {\n",
              "      border-color: transparent;\n",
              "      border-left-color: var(--fill-color);\n",
              "      border-top-color: var(--fill-color);\n",
              "      border-right-color: var(--fill-color);\n",
              "    }\n",
              "    40% {\n",
              "      border-color: transparent;\n",
              "      border-right-color: var(--fill-color);\n",
              "      border-top-color: var(--fill-color);\n",
              "    }\n",
              "    60% {\n",
              "      border-color: transparent;\n",
              "      border-right-color: var(--fill-color);\n",
              "    }\n",
              "    80% {\n",
              "      border-color: transparent;\n",
              "      border-right-color: var(--fill-color);\n",
              "      border-bottom-color: var(--fill-color);\n",
              "    }\n",
              "    90% {\n",
              "      border-color: transparent;\n",
              "      border-bottom-color: var(--fill-color);\n",
              "    }\n",
              "  }\n",
              "</style>\n",
              "\n",
              "  <script>\n",
              "    async function quickchart(key) {\n",
              "      const quickchartButtonEl =\n",
              "        document.querySelector('#' + key + ' button');\n",
              "      quickchartButtonEl.disabled = true;  // To prevent multiple clicks.\n",
              "      quickchartButtonEl.classList.add('colab-df-spinner');\n",
              "      try {\n",
              "        const charts = await google.colab.kernel.invokeFunction(\n",
              "            'suggestCharts', [key], {});\n",
              "      } catch (error) {\n",
              "        console.error('Error during call to suggestCharts:', error);\n",
              "      }\n",
              "      quickchartButtonEl.classList.remove('colab-df-spinner');\n",
              "      quickchartButtonEl.classList.add('colab-df-quickchart-complete');\n",
              "    }\n",
              "    (() => {\n",
              "      let quickchartButtonEl =\n",
              "        document.querySelector('#df-bebbe4c6-86d2-4393-867c-8e8867293833 button');\n",
              "      quickchartButtonEl.style.display =\n",
              "        google.colab.kernel.accessAllowed ? 'block' : 'none';\n",
              "    })();\n",
              "  </script>\n",
              "</div>\n",
              "\n",
              "    </div>\n",
              "  </div>\n"
            ],
            "application/vnd.google.colaboratory.intrinsic+json": {
              "type": "dataframe",
              "repr_error": "0"
            }
          },
          "metadata": {},
          "execution_count": 230
        }
      ]
    },
    {
      "cell_type": "markdown",
      "source": [
        "## Dataset overview"
      ],
      "metadata": {
        "id": "mfAKDJ-kjxjF"
      }
    },
    {
      "cell_type": "code",
      "source": [
        "dataset.info()"
      ],
      "metadata": {
        "colab": {
          "base_uri": "https://localhost:8080/"
        },
        "id": "ZThhBT2IiTfD",
        "outputId": "ad4c21c7-1de4-437f-c89c-690be790cc10"
      },
      "execution_count": 231,
      "outputs": [
        {
          "output_type": "stream",
          "name": "stdout",
          "text": [
            "<class 'pandas.core.frame.DataFrame'>\n",
            "Index: 20000 entries, 541200 to 517910\n",
            "Data columns (total 6 columns):\n",
            " #   Column  Non-Null Count  Dtype \n",
            "---  ------  --------------  ----- \n",
            " 0   target  20000 non-null  object\n",
            " 1   id      20000 non-null  int64 \n",
            " 2   date    20000 non-null  object\n",
            " 3   flag    20000 non-null  object\n",
            " 4   user    20000 non-null  object\n",
            " 5   text    20000 non-null  object\n",
            "dtypes: int64(1), object(5)\n",
            "memory usage: 1.1+ MB\n"
          ]
        }
      ]
    },
    {
      "cell_type": "code",
      "source": [
        "dataset['flag'].value_counts()"
      ],
      "metadata": {
        "colab": {
          "base_uri": "https://localhost:8080/"
        },
        "id": "V7YKCls4i0Cs",
        "outputId": "96a6da87-7580-4ad1-f288-f30fd6b715d4"
      },
      "execution_count": 232,
      "outputs": [
        {
          "output_type": "execute_result",
          "data": {
            "text/plain": [
              "flag\n",
              "NO_QUERY    20000\n",
              "Name: count, dtype: int64"
            ]
          },
          "metadata": {},
          "execution_count": 232
        }
      ]
    },
    {
      "cell_type": "code",
      "source": [
        "dataset['target'].value_counts()"
      ],
      "metadata": {
        "colab": {
          "base_uri": "https://localhost:8080/"
        },
        "id": "Tdp9o0HPi3d5",
        "outputId": "e77bf0e8-d6cb-44c5-aa81-0cf965ddaf2b"
      },
      "execution_count": 233,
      "outputs": [
        {
          "output_type": "execute_result",
          "data": {
            "text/plain": [
              "target\n",
              "positive    10058\n",
              "negative     9942\n",
              "Name: count, dtype: int64"
            ]
          },
          "metadata": {},
          "execution_count": 233
        }
      ]
    },
    {
      "cell_type": "markdown",
      "source": [
        "## Prepocessing dataset"
      ],
      "metadata": {
        "id": "2ma-JJ3Mk_xO"
      }
    },
    {
      "cell_type": "code",
      "source": [
        "#@title Drop columns\n",
        "dataset_backup = dataset.copy()\n",
        "\n",
        "dataset = dataset.drop(['id', 'date', 'flag', 'user'], axis=1)\n",
        "\n",
        "dataset.sample(10)"
      ],
      "metadata": {
        "colab": {
          "base_uri": "https://localhost:8080/",
          "height": 363
        },
        "id": "E0gR047Lj9JA",
        "outputId": "d2eaa138-07a9-43b6-d770-8aed2eb57b30"
      },
      "execution_count": 234,
      "outputs": [
        {
          "output_type": "execute_result",
          "data": {
            "text/plain": [
              "           target                                               text\n",
              "805234   positive           @danishkanavin no the idiot who took it \n",
              "1148989  positive                      @CRAZi3B3AUTiFUL kay thanks! \n",
              "1341683  positive               Going to Narnia to get lost! Yippie \n",
              "1523260  positive  is too temperamental for her own good.=/ anywa...\n",
              "1267376  positive                       yay i have over 800 updates \n",
              "348329   negative                                 I miss The Hills! \n",
              "987237   positive        @melbgirl It means the same to us!  #GoCats\n",
              "548567   negative                    Going To Bed ...My Ankle Hurts \n",
              "803974   positive          @donnyosmond Greetings from Cardiff, UK. \n",
              "899205   positive     @smata i went to boston market. its delicious "
            ],
            "text/html": [
              "\n",
              "  <div id=\"df-53bdd8ee-6322-4598-807f-aba6e59b0ab6\" class=\"colab-df-container\">\n",
              "    <div>\n",
              "<style scoped>\n",
              "    .dataframe tbody tr th:only-of-type {\n",
              "        vertical-align: middle;\n",
              "    }\n",
              "\n",
              "    .dataframe tbody tr th {\n",
              "        vertical-align: top;\n",
              "    }\n",
              "\n",
              "    .dataframe thead th {\n",
              "        text-align: right;\n",
              "    }\n",
              "</style>\n",
              "<table border=\"1\" class=\"dataframe\">\n",
              "  <thead>\n",
              "    <tr style=\"text-align: right;\">\n",
              "      <th></th>\n",
              "      <th>target</th>\n",
              "      <th>text</th>\n",
              "    </tr>\n",
              "  </thead>\n",
              "  <tbody>\n",
              "    <tr>\n",
              "      <th>805234</th>\n",
              "      <td>positive</td>\n",
              "      <td>@danishkanavin no the idiot who took it</td>\n",
              "    </tr>\n",
              "    <tr>\n",
              "      <th>1148989</th>\n",
              "      <td>positive</td>\n",
              "      <td>@CRAZi3B3AUTiFUL kay thanks!</td>\n",
              "    </tr>\n",
              "    <tr>\n",
              "      <th>1341683</th>\n",
              "      <td>positive</td>\n",
              "      <td>Going to Narnia to get lost! Yippie</td>\n",
              "    </tr>\n",
              "    <tr>\n",
              "      <th>1523260</th>\n",
              "      <td>positive</td>\n",
              "      <td>is too temperamental for her own good.=/ anywa...</td>\n",
              "    </tr>\n",
              "    <tr>\n",
              "      <th>1267376</th>\n",
              "      <td>positive</td>\n",
              "      <td>yay i have over 800 updates</td>\n",
              "    </tr>\n",
              "    <tr>\n",
              "      <th>348329</th>\n",
              "      <td>negative</td>\n",
              "      <td>I miss The Hills!</td>\n",
              "    </tr>\n",
              "    <tr>\n",
              "      <th>987237</th>\n",
              "      <td>positive</td>\n",
              "      <td>@melbgirl It means the same to us!  #GoCats</td>\n",
              "    </tr>\n",
              "    <tr>\n",
              "      <th>548567</th>\n",
              "      <td>negative</td>\n",
              "      <td>Going To Bed ...My Ankle Hurts</td>\n",
              "    </tr>\n",
              "    <tr>\n",
              "      <th>803974</th>\n",
              "      <td>positive</td>\n",
              "      <td>@donnyosmond Greetings from Cardiff, UK.</td>\n",
              "    </tr>\n",
              "    <tr>\n",
              "      <th>899205</th>\n",
              "      <td>positive</td>\n",
              "      <td>@smata i went to boston market. its delicious</td>\n",
              "    </tr>\n",
              "  </tbody>\n",
              "</table>\n",
              "</div>\n",
              "    <div class=\"colab-df-buttons\">\n",
              "\n",
              "  <div class=\"colab-df-container\">\n",
              "    <button class=\"colab-df-convert\" onclick=\"convertToInteractive('df-53bdd8ee-6322-4598-807f-aba6e59b0ab6')\"\n",
              "            title=\"Convert this dataframe to an interactive table.\"\n",
              "            style=\"display:none;\">\n",
              "\n",
              "  <svg xmlns=\"http://www.w3.org/2000/svg\" height=\"24px\" viewBox=\"0 -960 960 960\">\n",
              "    <path d=\"M120-120v-720h720v720H120Zm60-500h600v-160H180v160Zm220 220h160v-160H400v160Zm0 220h160v-160H400v160ZM180-400h160v-160H180v160Zm440 0h160v-160H620v160ZM180-180h160v-160H180v160Zm440 0h160v-160H620v160Z\"/>\n",
              "  </svg>\n",
              "    </button>\n",
              "\n",
              "  <style>\n",
              "    .colab-df-container {\n",
              "      display:flex;\n",
              "      gap: 12px;\n",
              "    }\n",
              "\n",
              "    .colab-df-convert {\n",
              "      background-color: #E8F0FE;\n",
              "      border: none;\n",
              "      border-radius: 50%;\n",
              "      cursor: pointer;\n",
              "      display: none;\n",
              "      fill: #1967D2;\n",
              "      height: 32px;\n",
              "      padding: 0 0 0 0;\n",
              "      width: 32px;\n",
              "    }\n",
              "\n",
              "    .colab-df-convert:hover {\n",
              "      background-color: #E2EBFA;\n",
              "      box-shadow: 0px 1px 2px rgba(60, 64, 67, 0.3), 0px 1px 3px 1px rgba(60, 64, 67, 0.15);\n",
              "      fill: #174EA6;\n",
              "    }\n",
              "\n",
              "    .colab-df-buttons div {\n",
              "      margin-bottom: 4px;\n",
              "    }\n",
              "\n",
              "    [theme=dark] .colab-df-convert {\n",
              "      background-color: #3B4455;\n",
              "      fill: #D2E3FC;\n",
              "    }\n",
              "\n",
              "    [theme=dark] .colab-df-convert:hover {\n",
              "      background-color: #434B5C;\n",
              "      box-shadow: 0px 1px 3px 1px rgba(0, 0, 0, 0.15);\n",
              "      filter: drop-shadow(0px 1px 2px rgba(0, 0, 0, 0.3));\n",
              "      fill: #FFFFFF;\n",
              "    }\n",
              "  </style>\n",
              "\n",
              "    <script>\n",
              "      const buttonEl =\n",
              "        document.querySelector('#df-53bdd8ee-6322-4598-807f-aba6e59b0ab6 button.colab-df-convert');\n",
              "      buttonEl.style.display =\n",
              "        google.colab.kernel.accessAllowed ? 'block' : 'none';\n",
              "\n",
              "      async function convertToInteractive(key) {\n",
              "        const element = document.querySelector('#df-53bdd8ee-6322-4598-807f-aba6e59b0ab6');\n",
              "        const dataTable =\n",
              "          await google.colab.kernel.invokeFunction('convertToInteractive',\n",
              "                                                    [key], {});\n",
              "        if (!dataTable) return;\n",
              "\n",
              "        const docLinkHtml = 'Like what you see? Visit the ' +\n",
              "          '<a target=\"_blank\" href=https://colab.research.google.com/notebooks/data_table.ipynb>data table notebook</a>'\n",
              "          + ' to learn more about interactive tables.';\n",
              "        element.innerHTML = '';\n",
              "        dataTable['output_type'] = 'display_data';\n",
              "        await google.colab.output.renderOutput(dataTable, element);\n",
              "        const docLink = document.createElement('div');\n",
              "        docLink.innerHTML = docLinkHtml;\n",
              "        element.appendChild(docLink);\n",
              "      }\n",
              "    </script>\n",
              "  </div>\n",
              "\n",
              "\n",
              "<div id=\"df-95b11952-6b50-4357-b6ae-fc178064d367\">\n",
              "  <button class=\"colab-df-quickchart\" onclick=\"quickchart('df-95b11952-6b50-4357-b6ae-fc178064d367')\"\n",
              "            title=\"Suggest charts\"\n",
              "            style=\"display:none;\">\n",
              "\n",
              "<svg xmlns=\"http://www.w3.org/2000/svg\" height=\"24px\"viewBox=\"0 0 24 24\"\n",
              "     width=\"24px\">\n",
              "    <g>\n",
              "        <path d=\"M19 3H5c-1.1 0-2 .9-2 2v14c0 1.1.9 2 2 2h14c1.1 0 2-.9 2-2V5c0-1.1-.9-2-2-2zM9 17H7v-7h2v7zm4 0h-2V7h2v10zm4 0h-2v-4h2v4z\"/>\n",
              "    </g>\n",
              "</svg>\n",
              "  </button>\n",
              "\n",
              "<style>\n",
              "  .colab-df-quickchart {\n",
              "      --bg-color: #E8F0FE;\n",
              "      --fill-color: #1967D2;\n",
              "      --hover-bg-color: #E2EBFA;\n",
              "      --hover-fill-color: #174EA6;\n",
              "      --disabled-fill-color: #AAA;\n",
              "      --disabled-bg-color: #DDD;\n",
              "  }\n",
              "\n",
              "  [theme=dark] .colab-df-quickchart {\n",
              "      --bg-color: #3B4455;\n",
              "      --fill-color: #D2E3FC;\n",
              "      --hover-bg-color: #434B5C;\n",
              "      --hover-fill-color: #FFFFFF;\n",
              "      --disabled-bg-color: #3B4455;\n",
              "      --disabled-fill-color: #666;\n",
              "  }\n",
              "\n",
              "  .colab-df-quickchart {\n",
              "    background-color: var(--bg-color);\n",
              "    border: none;\n",
              "    border-radius: 50%;\n",
              "    cursor: pointer;\n",
              "    display: none;\n",
              "    fill: var(--fill-color);\n",
              "    height: 32px;\n",
              "    padding: 0;\n",
              "    width: 32px;\n",
              "  }\n",
              "\n",
              "  .colab-df-quickchart:hover {\n",
              "    background-color: var(--hover-bg-color);\n",
              "    box-shadow: 0 1px 2px rgba(60, 64, 67, 0.3), 0 1px 3px 1px rgba(60, 64, 67, 0.15);\n",
              "    fill: var(--button-hover-fill-color);\n",
              "  }\n",
              "\n",
              "  .colab-df-quickchart-complete:disabled,\n",
              "  .colab-df-quickchart-complete:disabled:hover {\n",
              "    background-color: var(--disabled-bg-color);\n",
              "    fill: var(--disabled-fill-color);\n",
              "    box-shadow: none;\n",
              "  }\n",
              "\n",
              "  .colab-df-spinner {\n",
              "    border: 2px solid var(--fill-color);\n",
              "    border-color: transparent;\n",
              "    border-bottom-color: var(--fill-color);\n",
              "    animation:\n",
              "      spin 1s steps(1) infinite;\n",
              "  }\n",
              "\n",
              "  @keyframes spin {\n",
              "    0% {\n",
              "      border-color: transparent;\n",
              "      border-bottom-color: var(--fill-color);\n",
              "      border-left-color: var(--fill-color);\n",
              "    }\n",
              "    20% {\n",
              "      border-color: transparent;\n",
              "      border-left-color: var(--fill-color);\n",
              "      border-top-color: var(--fill-color);\n",
              "    }\n",
              "    30% {\n",
              "      border-color: transparent;\n",
              "      border-left-color: var(--fill-color);\n",
              "      border-top-color: var(--fill-color);\n",
              "      border-right-color: var(--fill-color);\n",
              "    }\n",
              "    40% {\n",
              "      border-color: transparent;\n",
              "      border-right-color: var(--fill-color);\n",
              "      border-top-color: var(--fill-color);\n",
              "    }\n",
              "    60% {\n",
              "      border-color: transparent;\n",
              "      border-right-color: var(--fill-color);\n",
              "    }\n",
              "    80% {\n",
              "      border-color: transparent;\n",
              "      border-right-color: var(--fill-color);\n",
              "      border-bottom-color: var(--fill-color);\n",
              "    }\n",
              "    90% {\n",
              "      border-color: transparent;\n",
              "      border-bottom-color: var(--fill-color);\n",
              "    }\n",
              "  }\n",
              "</style>\n",
              "\n",
              "  <script>\n",
              "    async function quickchart(key) {\n",
              "      const quickchartButtonEl =\n",
              "        document.querySelector('#' + key + ' button');\n",
              "      quickchartButtonEl.disabled = true;  // To prevent multiple clicks.\n",
              "      quickchartButtonEl.classList.add('colab-df-spinner');\n",
              "      try {\n",
              "        const charts = await google.colab.kernel.invokeFunction(\n",
              "            'suggestCharts', [key], {});\n",
              "      } catch (error) {\n",
              "        console.error('Error during call to suggestCharts:', error);\n",
              "      }\n",
              "      quickchartButtonEl.classList.remove('colab-df-spinner');\n",
              "      quickchartButtonEl.classList.add('colab-df-quickchart-complete');\n",
              "    }\n",
              "    (() => {\n",
              "      let quickchartButtonEl =\n",
              "        document.querySelector('#df-95b11952-6b50-4357-b6ae-fc178064d367 button');\n",
              "      quickchartButtonEl.style.display =\n",
              "        google.colab.kernel.accessAllowed ? 'block' : 'none';\n",
              "    })();\n",
              "  </script>\n",
              "</div>\n",
              "\n",
              "    </div>\n",
              "  </div>\n"
            ],
            "application/vnd.google.colaboratory.intrinsic+json": {
              "type": "dataframe",
              "summary": "{\n  \"name\": \"dataset\",\n  \"rows\": 10,\n  \"fields\": [\n    {\n      \"column\": \"target\",\n      \"properties\": {\n        \"dtype\": \"category\",\n        \"num_unique_values\": 2,\n        \"samples\": [\n          \"negative\",\n          \"positive\"\n        ],\n        \"semantic_type\": \"\",\n        \"description\": \"\"\n      }\n    },\n    {\n      \"column\": \"text\",\n      \"properties\": {\n        \"dtype\": \"string\",\n        \"num_unique_values\": 10,\n        \"samples\": [\n          \"@donnyosmond Greetings from Cardiff, UK. \",\n          \"@CRAZi3B3AUTiFUL kay thanks! \"\n        ],\n        \"semantic_type\": \"\",\n        \"description\": \"\"\n      }\n    }\n  ]\n}"
            }
          },
          "metadata": {},
          "execution_count": 234
        }
      ]
    },
    {
      "cell_type": "code",
      "source": [
        "#@title Splitting dataset\n",
        "x_train, x_test, y_train, y_test = train_test_split(dataset['text'], dataset['target'], test_size=0.25, random_state=42)"
      ],
      "metadata": {
        "id": "I2MX5xKbvJki"
      },
      "execution_count": 235,
      "outputs": []
    },
    {
      "cell_type": "code",
      "source": [
        "x_train.head(5)"
      ],
      "metadata": {
        "colab": {
          "base_uri": "https://localhost:8080/"
        },
        "id": "bZ_If-IfwiAj",
        "outputId": "f95a1d2a-b4c3-4596-9630-45815953a7b1"
      },
      "execution_count": 236,
      "outputs": [
        {
          "output_type": "execute_result",
          "data": {
            "text/plain": [
              "1473410    Me and Lace coming out of mango tree resturant...\n",
              "1021177    @shereemcfly09 yeah its going to be freaking a...\n",
              "958067     @MoBostock be sure to twitpic some party pictu...\n",
              "621438     Oh shitttt there's still tickets to see demi l...\n",
              "1289024    @aycstacy I love it. I wanna blog. Ill buy my ...\n",
              "Name: text, dtype: object"
            ]
          },
          "metadata": {},
          "execution_count": 236
        }
      ]
    },
    {
      "cell_type": "code",
      "source": [
        "y_train.head(5)"
      ],
      "metadata": {
        "colab": {
          "base_uri": "https://localhost:8080/"
        },
        "id": "Sv0BuTHzwlH6",
        "outputId": "c723c90c-9533-4f53-a7eb-ca513d228543"
      },
      "execution_count": 237,
      "outputs": [
        {
          "output_type": "execute_result",
          "data": {
            "text/plain": [
              "1473410    positive\n",
              "1021177    positive\n",
              "958067     positive\n",
              "621438     negative\n",
              "1289024    positive\n",
              "Name: target, dtype: object"
            ]
          },
          "metadata": {},
          "execution_count": 237
        }
      ]
    },
    {
      "cell_type": "code",
      "source": [
        "x_train.info()"
      ],
      "metadata": {
        "colab": {
          "base_uri": "https://localhost:8080/"
        },
        "id": "d9V7rmuWwo65",
        "outputId": "15ba5c1c-7e53-433e-d752-ba6072bf2b43"
      },
      "execution_count": 238,
      "outputs": [
        {
          "output_type": "stream",
          "name": "stdout",
          "text": [
            "<class 'pandas.core.series.Series'>\n",
            "Index: 15000 entries, 1473410 to 737335\n",
            "Series name: text\n",
            "Non-Null Count  Dtype \n",
            "--------------  ----- \n",
            "15000 non-null  object\n",
            "dtypes: object(1)\n",
            "memory usage: 234.4+ KB\n"
          ]
        }
      ]
    },
    {
      "cell_type": "code",
      "source": [
        "x_test.info()"
      ],
      "metadata": {
        "colab": {
          "base_uri": "https://localhost:8080/"
        },
        "id": "1a6VeZu1wq_v",
        "outputId": "540efca4-f084-4393-f8c0-fea2e60f0a6f"
      },
      "execution_count": 239,
      "outputs": [
        {
          "output_type": "stream",
          "name": "stdout",
          "text": [
            "<class 'pandas.core.series.Series'>\n",
            "Index: 5000 entries, 595842 to 602979\n",
            "Series name: text\n",
            "Non-Null Count  Dtype \n",
            "--------------  ----- \n",
            "5000 non-null   object\n",
            "dtypes: object(1)\n",
            "memory usage: 78.1+ KB\n"
          ]
        }
      ]
    },
    {
      "cell_type": "code",
      "source": [
        "y_train.value_counts()"
      ],
      "metadata": {
        "colab": {
          "base_uri": "https://localhost:8080/"
        },
        "id": "F0EOBjUWAvne",
        "outputId": "8cd825b1-5fa7-4ddf-e872-ee432de7964b"
      },
      "execution_count": 240,
      "outputs": [
        {
          "output_type": "execute_result",
          "data": {
            "text/plain": [
              "target\n",
              "positive    7531\n",
              "negative    7469\n",
              "Name: count, dtype: int64"
            ]
          },
          "metadata": {},
          "execution_count": 240
        }
      ]
    },
    {
      "cell_type": "code",
      "source": [
        "y_test.value_counts()"
      ],
      "metadata": {
        "colab": {
          "base_uri": "https://localhost:8080/"
        },
        "id": "jKS12tlpA2Yd",
        "outputId": "18734219-51f4-48a9-f14d-3c5fbe3a1bcb"
      },
      "execution_count": 241,
      "outputs": [
        {
          "output_type": "execute_result",
          "data": {
            "text/plain": [
              "target\n",
              "positive    2527\n",
              "negative    2473\n",
              "Name: count, dtype: int64"
            ]
          },
          "metadata": {},
          "execution_count": 241
        }
      ]
    },
    {
      "cell_type": "markdown",
      "source": [
        "### Clean text"
      ],
      "metadata": {
        "id": "TuxqI0G5x0Sh"
      }
    },
    {
      "cell_type": "code",
      "source": [
        "#@title Define function for text cleaning\n",
        "# Download necessary NLTK data\n",
        "nltk.download('stopwords')\n",
        "nltk.download('wordnet')\n",
        "nltk.download('omw-1.4')\n",
        "nltk.download('punkt')\n",
        "nltk.download('vader_lexicon')\n",
        "\n",
        "# Initialize stopwords, stemmer, and lemmatizer\n",
        "stop_words = set(stopwords.words('english'))\n",
        "stemmer = PorterStemmer()\n",
        "lemmatizer = WordNetLemmatizer()\n",
        "\n",
        "def clean_text(text):\n",
        "  text = html.unescape(text)\n",
        "\n",
        "  # Remove tags\n",
        "  text = re.sub(r'@[A-Za-z0-9-_]+', '', text)\n",
        "\n",
        "  # Remove links\n",
        "  text = re.sub(r'(https?:\\/\\/|www\\.)\\S+', '', text)\n",
        "\n",
        "  # Remove special characters and numbers\n",
        "  text = re.sub(r'[^A-Za-z\\s]', '', text)\n",
        "\n",
        "  # Convert text to lowercase\n",
        "  text = text.lower()\n",
        "\n",
        "  # Tokenize text\n",
        "  tokens = word_tokenize(text)\n",
        "\n",
        "  # Remove stopwords\n",
        "  tokens = [word for word in tokens if word not in stop_words]\n",
        "\n",
        "  # Apply stemming or lemmatization\n",
        "  # tokens = [stemmer.stem(word) for word in tokens]  # For stemming\n",
        "  tokens = [lemmatizer.lemmatize(word) for word in tokens]  # For lemmatization\n",
        "\n",
        "  clean_text = ' '.join(tokens)\n",
        "\n",
        "  return clean_text\n",
        "\n",
        "# sample_text = \"This is an example sentence from @Hello_world44, demonstrating text cleaning in Python! Please visit https://mockupsite.com/ for more examples&amp;tutorials!\"\n",
        "# cleaned_sample_text = clean_text(sample_text)\n",
        "\n",
        "# cleaned_sample_text"
      ],
      "metadata": {
        "colab": {
          "base_uri": "https://localhost:8080/"
        },
        "id": "7U-FPcHOxSOG",
        "outputId": "743f615c-edaf-49d5-b42b-049aaea3f118"
      },
      "execution_count": 242,
      "outputs": [
        {
          "output_type": "stream",
          "name": "stderr",
          "text": [
            "[nltk_data] Downloading package stopwords to /root/nltk_data...\n",
            "[nltk_data]   Package stopwords is already up-to-date!\n",
            "[nltk_data] Downloading package wordnet to /root/nltk_data...\n",
            "[nltk_data]   Package wordnet is already up-to-date!\n",
            "[nltk_data] Downloading package omw-1.4 to /root/nltk_data...\n",
            "[nltk_data]   Package omw-1.4 is already up-to-date!\n",
            "[nltk_data] Downloading package punkt to /root/nltk_data...\n",
            "[nltk_data]   Package punkt is already up-to-date!\n",
            "[nltk_data] Downloading package vader_lexicon to /root/nltk_data...\n",
            "[nltk_data]   Package vader_lexicon is already up-to-date!\n"
          ]
        }
      ]
    },
    {
      "cell_type": "code",
      "source": [
        "x_train.head(10)"
      ],
      "metadata": {
        "colab": {
          "base_uri": "https://localhost:8080/"
        },
        "id": "UwNxm74KESs2",
        "outputId": "f84ef694-dd87-4f3d-cc42-61614c285135"
      },
      "execution_count": 243,
      "outputs": [
        {
          "output_type": "execute_result",
          "data": {
            "text/plain": [
              "1473410    Me and Lace coming out of mango tree resturant...\n",
              "1021177    @shereemcfly09 yeah its going to be freaking a...\n",
              "958067     @MoBostock be sure to twitpic some party pictu...\n",
              "621438     Oh shitttt there's still tickets to see demi l...\n",
              "1289024    @aycstacy I love it. I wanna blog. Ill buy my ...\n",
              "1080438    @officiallmiley ok.when you text them could yo...\n",
              "248279     @AmiraEzeldin  wish i had been there. And at t...\n",
              "387726                                             Headache \n",
              "1460144    Is eagerly waiting for the Twilight New Moon.....\n",
              "1296714    @BravoBride The link didn't display, could you...\n",
              "Name: text, dtype: object"
            ]
          },
          "metadata": {},
          "execution_count": 243
        }
      ]
    },
    {
      "cell_type": "code",
      "source": [
        "#@title Cleaning text in dataset\n",
        "x_train_backup = x_train.copy()\n",
        "x_test_backup = x_test.copy()\n",
        "\n",
        "x_train = x_train.apply(clean_text)\n",
        "x_test = x_test.apply(clean_text)\n",
        "\n",
        "x_train.head(10)"
      ],
      "metadata": {
        "colab": {
          "base_uri": "https://localhost:8080/"
        },
        "id": "gLT1wrjj5sgW",
        "outputId": "b4f5fced-aa56-441a-fe2d-47872db32aaa"
      },
      "execution_count": 244,
      "outputs": [
        {
          "output_type": "execute_result",
          "data": {
            "text/plain": [
              "1473410    lace coming mango tree resturant last year pap...\n",
              "1021177    yeah going freaking awesome upto much loveyouj...\n",
              "958067              sure twitpic party picture give u detail\n",
              "621438     oh shitttt there still ticket see demi lovato ...\n",
              "1289024                      love wan na blog ill buy camera\n",
              "1080438    okwhen text could ask post ur name account acc...\n",
              "248279                       wish moment really missing babe\n",
              "387726                                              headache\n",
              "1460144           eagerly waiting twilight new moon twilight\n",
              "1296714         link didnt display could repost correct link\n",
              "Name: text, dtype: object"
            ]
          },
          "metadata": {},
          "execution_count": 244
        }
      ]
    },
    {
      "cell_type": "markdown",
      "source": [
        "### Converting text into vectors"
      ],
      "metadata": {
        "id": "cYreEXQyMsEH"
      }
    },
    {
      "cell_type": "code",
      "source": [
        "vectorizer = CountVectorizer()\n",
        "x_train_vec = vectorizer.fit_transform(x_train)\n",
        "x_test_vec = vectorizer.transform(x_test)\n",
        "\n",
        "x_train_vec"
      ],
      "metadata": {
        "colab": {
          "base_uri": "https://localhost:8080/"
        },
        "id": "t8o1Mx_qM2yn",
        "outputId": "1fdf104e-2f24-4374-c7d8-cce6917d1fbc"
      },
      "execution_count": 245,
      "outputs": [
        {
          "output_type": "execute_result",
          "data": {
            "text/plain": [
              "<15000x16895 sparse matrix of type '<class 'numpy.int64'>'\n",
              "\twith 103029 stored elements in Compressed Sparse Row format>"
            ]
          },
          "metadata": {},
          "execution_count": 245
        }
      ]
    },
    {
      "cell_type": "markdown",
      "source": [
        "##NLTK sentiment analyzer"
      ],
      "metadata": {
        "id": "xqFOLO7dGJ5Z"
      }
    },
    {
      "cell_type": "code",
      "source": [
        "#@title Define function\n",
        "analyzer = SentimentIntensityAnalyzer()\n",
        "\n",
        "def get_sentiment(text):\n",
        "  scores = analyzer.polarity_scores(text)\n",
        "\n",
        "  sentiment = 'positive' if scores['compound'] >= 0.05 else ('negative' if scores['compound'] <= -0.05 else 'neutral')\n",
        "\n",
        "  return sentiment"
      ],
      "metadata": {
        "id": "QEn-gLeZGMY3"
      },
      "execution_count": 246,
      "outputs": []
    },
    {
      "cell_type": "code",
      "source": [
        "#@title Call function\n",
        "sentiment_from_analyzer = pd.DataFrame(columns=['text', 'target_sentiment', 'sentiment'])\n",
        "sentiment_from_analyzer['text'] = x_test_backup\n",
        "sentiment_from_analyzer['target_sentiment'] = y_test\n",
        "sentiment_from_analyzer['sentiment'] = x_test.apply(get_sentiment)\n",
        "\n",
        "sentiment_from_analyzer.sample(10)"
      ],
      "metadata": {
        "colab": {
          "base_uri": "https://localhost:8080/",
          "height": 363
        },
        "id": "LlgXIeWqHEdP",
        "outputId": "1ca4bf36-d12f-4d3c-f746-8b594669cd61"
      },
      "execution_count": 247,
      "outputs": [
        {
          "output_type": "execute_result",
          "data": {
            "text/plain": [
              "                                                      text target_sentiment  \\\n",
              "367949                   i don't know what to tweet about          negative   \n",
              "596005                off to bed... not feeling too great          negative   \n",
              "288957   Sadly I have to go back to work tomorrow  stil...         negative   \n",
              "1384339              Wow! #ubuntu wish me Happy Birthday!          positive   \n",
              "1348100          friends  tomorrow we wil rock the Club ;D         positive   \n",
              "1159337  @sambriones sammmmyy... advil lang.. it works ...         positive   \n",
              "244782                UGH...I NEED SOME ALLERGY MEDS ASAP          negative   \n",
              "785687   @_supernatural_ http://twitpic.com/8d09f - aww...         negative   \n",
              "427568         Waiting for the driver! +.+ I hate waiting          negative   \n",
              "1249387  @maddieeejayne dam right im proud of ya! you b...         positive   \n",
              "\n",
              "        sentiment  \n",
              "367949    neutral  \n",
              "596005   positive  \n",
              "288957   negative  \n",
              "1384339  positive  \n",
              "1348100  positive  \n",
              "1159337   neutral  \n",
              "244782    neutral  \n",
              "785687   positive  \n",
              "427568   negative  \n",
              "1249387  positive  "
            ],
            "text/html": [
              "\n",
              "  <div id=\"df-ef878851-3881-4ebf-ac19-7af5baafb55c\" class=\"colab-df-container\">\n",
              "    <div>\n",
              "<style scoped>\n",
              "    .dataframe tbody tr th:only-of-type {\n",
              "        vertical-align: middle;\n",
              "    }\n",
              "\n",
              "    .dataframe tbody tr th {\n",
              "        vertical-align: top;\n",
              "    }\n",
              "\n",
              "    .dataframe thead th {\n",
              "        text-align: right;\n",
              "    }\n",
              "</style>\n",
              "<table border=\"1\" class=\"dataframe\">\n",
              "  <thead>\n",
              "    <tr style=\"text-align: right;\">\n",
              "      <th></th>\n",
              "      <th>text</th>\n",
              "      <th>target_sentiment</th>\n",
              "      <th>sentiment</th>\n",
              "    </tr>\n",
              "  </thead>\n",
              "  <tbody>\n",
              "    <tr>\n",
              "      <th>367949</th>\n",
              "      <td>i don't know what to tweet about</td>\n",
              "      <td>negative</td>\n",
              "      <td>neutral</td>\n",
              "    </tr>\n",
              "    <tr>\n",
              "      <th>596005</th>\n",
              "      <td>off to bed... not feeling too great</td>\n",
              "      <td>negative</td>\n",
              "      <td>positive</td>\n",
              "    </tr>\n",
              "    <tr>\n",
              "      <th>288957</th>\n",
              "      <td>Sadly I have to go back to work tomorrow  stil...</td>\n",
              "      <td>negative</td>\n",
              "      <td>negative</td>\n",
              "    </tr>\n",
              "    <tr>\n",
              "      <th>1384339</th>\n",
              "      <td>Wow! #ubuntu wish me Happy Birthday!</td>\n",
              "      <td>positive</td>\n",
              "      <td>positive</td>\n",
              "    </tr>\n",
              "    <tr>\n",
              "      <th>1348100</th>\n",
              "      <td>friends  tomorrow we wil rock the Club ;D</td>\n",
              "      <td>positive</td>\n",
              "      <td>positive</td>\n",
              "    </tr>\n",
              "    <tr>\n",
              "      <th>1159337</th>\n",
              "      <td>@sambriones sammmmyy... advil lang.. it works ...</td>\n",
              "      <td>positive</td>\n",
              "      <td>neutral</td>\n",
              "    </tr>\n",
              "    <tr>\n",
              "      <th>244782</th>\n",
              "      <td>UGH...I NEED SOME ALLERGY MEDS ASAP</td>\n",
              "      <td>negative</td>\n",
              "      <td>neutral</td>\n",
              "    </tr>\n",
              "    <tr>\n",
              "      <th>785687</th>\n",
              "      <td>@_supernatural_ http://twitpic.com/8d09f - aww...</td>\n",
              "      <td>negative</td>\n",
              "      <td>positive</td>\n",
              "    </tr>\n",
              "    <tr>\n",
              "      <th>427568</th>\n",
              "      <td>Waiting for the driver! +.+ I hate waiting</td>\n",
              "      <td>negative</td>\n",
              "      <td>negative</td>\n",
              "    </tr>\n",
              "    <tr>\n",
              "      <th>1249387</th>\n",
              "      <td>@maddieeejayne dam right im proud of ya! you b...</td>\n",
              "      <td>positive</td>\n",
              "      <td>positive</td>\n",
              "    </tr>\n",
              "  </tbody>\n",
              "</table>\n",
              "</div>\n",
              "    <div class=\"colab-df-buttons\">\n",
              "\n",
              "  <div class=\"colab-df-container\">\n",
              "    <button class=\"colab-df-convert\" onclick=\"convertToInteractive('df-ef878851-3881-4ebf-ac19-7af5baafb55c')\"\n",
              "            title=\"Convert this dataframe to an interactive table.\"\n",
              "            style=\"display:none;\">\n",
              "\n",
              "  <svg xmlns=\"http://www.w3.org/2000/svg\" height=\"24px\" viewBox=\"0 -960 960 960\">\n",
              "    <path d=\"M120-120v-720h720v720H120Zm60-500h600v-160H180v160Zm220 220h160v-160H400v160Zm0 220h160v-160H400v160ZM180-400h160v-160H180v160Zm440 0h160v-160H620v160ZM180-180h160v-160H180v160Zm440 0h160v-160H620v160Z\"/>\n",
              "  </svg>\n",
              "    </button>\n",
              "\n",
              "  <style>\n",
              "    .colab-df-container {\n",
              "      display:flex;\n",
              "      gap: 12px;\n",
              "    }\n",
              "\n",
              "    .colab-df-convert {\n",
              "      background-color: #E8F0FE;\n",
              "      border: none;\n",
              "      border-radius: 50%;\n",
              "      cursor: pointer;\n",
              "      display: none;\n",
              "      fill: #1967D2;\n",
              "      height: 32px;\n",
              "      padding: 0 0 0 0;\n",
              "      width: 32px;\n",
              "    }\n",
              "\n",
              "    .colab-df-convert:hover {\n",
              "      background-color: #E2EBFA;\n",
              "      box-shadow: 0px 1px 2px rgba(60, 64, 67, 0.3), 0px 1px 3px 1px rgba(60, 64, 67, 0.15);\n",
              "      fill: #174EA6;\n",
              "    }\n",
              "\n",
              "    .colab-df-buttons div {\n",
              "      margin-bottom: 4px;\n",
              "    }\n",
              "\n",
              "    [theme=dark] .colab-df-convert {\n",
              "      background-color: #3B4455;\n",
              "      fill: #D2E3FC;\n",
              "    }\n",
              "\n",
              "    [theme=dark] .colab-df-convert:hover {\n",
              "      background-color: #434B5C;\n",
              "      box-shadow: 0px 1px 3px 1px rgba(0, 0, 0, 0.15);\n",
              "      filter: drop-shadow(0px 1px 2px rgba(0, 0, 0, 0.3));\n",
              "      fill: #FFFFFF;\n",
              "    }\n",
              "  </style>\n",
              "\n",
              "    <script>\n",
              "      const buttonEl =\n",
              "        document.querySelector('#df-ef878851-3881-4ebf-ac19-7af5baafb55c button.colab-df-convert');\n",
              "      buttonEl.style.display =\n",
              "        google.colab.kernel.accessAllowed ? 'block' : 'none';\n",
              "\n",
              "      async function convertToInteractive(key) {\n",
              "        const element = document.querySelector('#df-ef878851-3881-4ebf-ac19-7af5baafb55c');\n",
              "        const dataTable =\n",
              "          await google.colab.kernel.invokeFunction('convertToInteractive',\n",
              "                                                    [key], {});\n",
              "        if (!dataTable) return;\n",
              "\n",
              "        const docLinkHtml = 'Like what you see? Visit the ' +\n",
              "          '<a target=\"_blank\" href=https://colab.research.google.com/notebooks/data_table.ipynb>data table notebook</a>'\n",
              "          + ' to learn more about interactive tables.';\n",
              "        element.innerHTML = '';\n",
              "        dataTable['output_type'] = 'display_data';\n",
              "        await google.colab.output.renderOutput(dataTable, element);\n",
              "        const docLink = document.createElement('div');\n",
              "        docLink.innerHTML = docLinkHtml;\n",
              "        element.appendChild(docLink);\n",
              "      }\n",
              "    </script>\n",
              "  </div>\n",
              "\n",
              "\n",
              "<div id=\"df-c01a0461-a914-48d4-87ea-48c9c682f7b5\">\n",
              "  <button class=\"colab-df-quickchart\" onclick=\"quickchart('df-c01a0461-a914-48d4-87ea-48c9c682f7b5')\"\n",
              "            title=\"Suggest charts\"\n",
              "            style=\"display:none;\">\n",
              "\n",
              "<svg xmlns=\"http://www.w3.org/2000/svg\" height=\"24px\"viewBox=\"0 0 24 24\"\n",
              "     width=\"24px\">\n",
              "    <g>\n",
              "        <path d=\"M19 3H5c-1.1 0-2 .9-2 2v14c0 1.1.9 2 2 2h14c1.1 0 2-.9 2-2V5c0-1.1-.9-2-2-2zM9 17H7v-7h2v7zm4 0h-2V7h2v10zm4 0h-2v-4h2v4z\"/>\n",
              "    </g>\n",
              "</svg>\n",
              "  </button>\n",
              "\n",
              "<style>\n",
              "  .colab-df-quickchart {\n",
              "      --bg-color: #E8F0FE;\n",
              "      --fill-color: #1967D2;\n",
              "      --hover-bg-color: #E2EBFA;\n",
              "      --hover-fill-color: #174EA6;\n",
              "      --disabled-fill-color: #AAA;\n",
              "      --disabled-bg-color: #DDD;\n",
              "  }\n",
              "\n",
              "  [theme=dark] .colab-df-quickchart {\n",
              "      --bg-color: #3B4455;\n",
              "      --fill-color: #D2E3FC;\n",
              "      --hover-bg-color: #434B5C;\n",
              "      --hover-fill-color: #FFFFFF;\n",
              "      --disabled-bg-color: #3B4455;\n",
              "      --disabled-fill-color: #666;\n",
              "  }\n",
              "\n",
              "  .colab-df-quickchart {\n",
              "    background-color: var(--bg-color);\n",
              "    border: none;\n",
              "    border-radius: 50%;\n",
              "    cursor: pointer;\n",
              "    display: none;\n",
              "    fill: var(--fill-color);\n",
              "    height: 32px;\n",
              "    padding: 0;\n",
              "    width: 32px;\n",
              "  }\n",
              "\n",
              "  .colab-df-quickchart:hover {\n",
              "    background-color: var(--hover-bg-color);\n",
              "    box-shadow: 0 1px 2px rgba(60, 64, 67, 0.3), 0 1px 3px 1px rgba(60, 64, 67, 0.15);\n",
              "    fill: var(--button-hover-fill-color);\n",
              "  }\n",
              "\n",
              "  .colab-df-quickchart-complete:disabled,\n",
              "  .colab-df-quickchart-complete:disabled:hover {\n",
              "    background-color: var(--disabled-bg-color);\n",
              "    fill: var(--disabled-fill-color);\n",
              "    box-shadow: none;\n",
              "  }\n",
              "\n",
              "  .colab-df-spinner {\n",
              "    border: 2px solid var(--fill-color);\n",
              "    border-color: transparent;\n",
              "    border-bottom-color: var(--fill-color);\n",
              "    animation:\n",
              "      spin 1s steps(1) infinite;\n",
              "  }\n",
              "\n",
              "  @keyframes spin {\n",
              "    0% {\n",
              "      border-color: transparent;\n",
              "      border-bottom-color: var(--fill-color);\n",
              "      border-left-color: var(--fill-color);\n",
              "    }\n",
              "    20% {\n",
              "      border-color: transparent;\n",
              "      border-left-color: var(--fill-color);\n",
              "      border-top-color: var(--fill-color);\n",
              "    }\n",
              "    30% {\n",
              "      border-color: transparent;\n",
              "      border-left-color: var(--fill-color);\n",
              "      border-top-color: var(--fill-color);\n",
              "      border-right-color: var(--fill-color);\n",
              "    }\n",
              "    40% {\n",
              "      border-color: transparent;\n",
              "      border-right-color: var(--fill-color);\n",
              "      border-top-color: var(--fill-color);\n",
              "    }\n",
              "    60% {\n",
              "      border-color: transparent;\n",
              "      border-right-color: var(--fill-color);\n",
              "    }\n",
              "    80% {\n",
              "      border-color: transparent;\n",
              "      border-right-color: var(--fill-color);\n",
              "      border-bottom-color: var(--fill-color);\n",
              "    }\n",
              "    90% {\n",
              "      border-color: transparent;\n",
              "      border-bottom-color: var(--fill-color);\n",
              "    }\n",
              "  }\n",
              "</style>\n",
              "\n",
              "  <script>\n",
              "    async function quickchart(key) {\n",
              "      const quickchartButtonEl =\n",
              "        document.querySelector('#' + key + ' button');\n",
              "      quickchartButtonEl.disabled = true;  // To prevent multiple clicks.\n",
              "      quickchartButtonEl.classList.add('colab-df-spinner');\n",
              "      try {\n",
              "        const charts = await google.colab.kernel.invokeFunction(\n",
              "            'suggestCharts', [key], {});\n",
              "      } catch (error) {\n",
              "        console.error('Error during call to suggestCharts:', error);\n",
              "      }\n",
              "      quickchartButtonEl.classList.remove('colab-df-spinner');\n",
              "      quickchartButtonEl.classList.add('colab-df-quickchart-complete');\n",
              "    }\n",
              "    (() => {\n",
              "      let quickchartButtonEl =\n",
              "        document.querySelector('#df-c01a0461-a914-48d4-87ea-48c9c682f7b5 button');\n",
              "      quickchartButtonEl.style.display =\n",
              "        google.colab.kernel.accessAllowed ? 'block' : 'none';\n",
              "    })();\n",
              "  </script>\n",
              "</div>\n",
              "\n",
              "    </div>\n",
              "  </div>\n"
            ],
            "application/vnd.google.colaboratory.intrinsic+json": {
              "type": "dataframe",
              "summary": "{\n  \"name\": \"sentiment_from_analyzer\",\n  \"rows\": 10,\n  \"fields\": [\n    {\n      \"column\": \"text\",\n      \"properties\": {\n        \"dtype\": \"string\",\n        \"num_unique_values\": 10,\n        \"samples\": [\n          \"Waiting for the driver! +.+ I hate waiting \",\n          \"off to bed... not feeling too great \",\n          \"@sambriones sammmmyy... advil lang.. it works wonders \"\n        ],\n        \"semantic_type\": \"\",\n        \"description\": \"\"\n      }\n    },\n    {\n      \"column\": \"target_sentiment\",\n      \"properties\": {\n        \"dtype\": \"category\",\n        \"num_unique_values\": 2,\n        \"samples\": [\n          \"positive\",\n          \"negative\"\n        ],\n        \"semantic_type\": \"\",\n        \"description\": \"\"\n      }\n    },\n    {\n      \"column\": \"sentiment\",\n      \"properties\": {\n        \"dtype\": \"category\",\n        \"num_unique_values\": 3,\n        \"samples\": [\n          \"neutral\",\n          \"positive\"\n        ],\n        \"semantic_type\": \"\",\n        \"description\": \"\"\n      }\n    }\n  ]\n}"
            }
          },
          "metadata": {},
          "execution_count": 247
        }
      ]
    },
    {
      "cell_type": "code",
      "source": [
        "#@title Evaluate\n",
        "exclude_neutral_sentiment_from_analyzer = sentiment_from_analyzer[sentiment_from_analyzer['sentiment'] != 'neutral']\n",
        "\n",
        "print(classification_report(exclude_neutral_sentiment_from_analyzer['target_sentiment'], exclude_neutral_sentiment_from_analyzer['sentiment']))\n",
        "\n",
        "cm = confusion_matrix(exclude_neutral_sentiment_from_analyzer['target_sentiment'], exclude_neutral_sentiment_from_analyzer['sentiment'])\n",
        "cm_display = ConfusionMatrixDisplay(confusion_matrix=cm, display_labels=['negative', 'positive'])\n",
        "cm_display.plot()"
      ],
      "metadata": {
        "colab": {
          "base_uri": "https://localhost:8080/",
          "height": 623
        },
        "id": "l3CPt8ASPz5h",
        "outputId": "1390e4b6-bc63-4e6e-a7e3-a87a36238425"
      },
      "execution_count": 248,
      "outputs": [
        {
          "output_type": "stream",
          "name": "stdout",
          "text": [
            "              precision    recall  f1-score   support\n",
            "\n",
            "    negative       0.79      0.53      0.63      1831\n",
            "    positive       0.65      0.86      0.74      1831\n",
            "\n",
            "    accuracy                           0.70      3662\n",
            "   macro avg       0.72      0.70      0.69      3662\n",
            "weighted avg       0.72      0.70      0.69      3662\n",
            "\n"
          ]
        },
        {
          "output_type": "execute_result",
          "data": {
            "text/plain": [
              "<sklearn.metrics._plot.confusion_matrix.ConfusionMatrixDisplay at 0x7cc278e820e0>"
            ]
          },
          "metadata": {},
          "execution_count": 248
        },
        {
          "output_type": "display_data",
          "data": {
            "text/plain": [
              "<Figure size 640x480 with 2 Axes>"
            ],
            "image/png": "[encoded data removed]"
          },
          "metadata": {}
        }
      ]
    },
    {
      "cell_type": "markdown",
      "source": [
        "## Model training"
      ],
      "metadata": {
        "id": "7YOSkkrZQ4nN"
      }
    },
    {
      "cell_type": "markdown",
      "source": [
        "### Logistic Regression model"
      ],
      "metadata": {
        "id": "s_sqYGvHrjoh"
      }
    },
    {
      "cell_type": "code",
      "source": [
        "logreg_model = LogisticRegression()\n",
        "logreg_model.fit(x_train_vec, y_train)\n",
        "\n",
        "logreg_model_predictions = logreg_model.predict(x_test_vec)"
      ],
      "metadata": {
        "colab": {
          "base_uri": "https://localhost:8080/"
        },
        "id": "5MH2CWLuRFnu",
        "outputId": "0be6cfd4-a2e6-4afa-be45-23088258f973"
      },
      "execution_count": 249,
      "outputs": [
        {
          "output_type": "stream",
          "name": "stderr",
          "text": [
            "/usr/local/lib/python3.10/dist-packages/sklearn/linear_model/_logistic.py:458: ConvergenceWarning: lbfgs failed to converge (status=1):\n",
            "STOP: TOTAL NO. of ITERATIONS REACHED LIMIT.\n",
            "\n",
            "Increase the number of iterations (max_iter) or scale the data as shown in:\n",
            "    https://scikit-learn.org/stable/modules/preprocessing.html\n",
            "Please also refer to the documentation for alternative solver options:\n",
            "    https://scikit-learn.org/stable/modules/linear_model.html#logistic-regression\n",
            "  n_iter_i = _check_optimize_result(\n"
          ]
        }
      ]
    },
    {
      "cell_type": "code",
      "source": [
        "print(classification_report(y_test, logreg_model_predictions))"
      ],
      "metadata": {
        "colab": {
          "base_uri": "https://localhost:8080/"
        },
        "id": "VUHYtOPDVZlJ",
        "outputId": "20ae8824-a3f3-4079-9273-58601512caa0"
      },
      "execution_count": 250,
      "outputs": [
        {
          "output_type": "stream",
          "name": "stdout",
          "text": [
            "              precision    recall  f1-score   support\n",
            "\n",
            "    negative       0.73      0.70      0.72      2473\n",
            "    positive       0.72      0.75      0.73      2527\n",
            "\n",
            "    accuracy                           0.73      5000\n",
            "   macro avg       0.73      0.73      0.73      5000\n",
            "weighted avg       0.73      0.73      0.73      5000\n",
            "\n"
          ]
        }
      ]
    },
    {
      "cell_type": "code",
      "source": [
        "cm = confusion_matrix(y_test, logreg_model_predictions)\n",
        "cm_display = ConfusionMatrixDisplay(confusion_matrix=cm, display_labels=['negative', 'positive'])\n",
        "cm_display.plot()"
      ],
      "metadata": {
        "colab": {
          "base_uri": "https://localhost:8080/",
          "height": 466
        },
        "id": "VKkpRB1tVj_f",
        "outputId": "ee1f01c2-f2d6-4af8-b040-208d04adddf2"
      },
      "execution_count": 251,
      "outputs": [
        {
          "output_type": "execute_result",
          "data": {
            "text/plain": [
              "<sklearn.metrics._plot.confusion_matrix.ConfusionMatrixDisplay at 0x7cc25fe66a70>"
            ]
          },
          "metadata": {},
          "execution_count": 251
        },
        {
          "output_type": "display_data",
          "data": {
            "text/plain": [
              "<Figure size 640x480 with 2 Axes>"
            ],
            "image/png": "[encoded data removed]"
          },
          "metadata": {}
        }
      ]
    },
    {
      "cell_type": "code",
      "source": [
        "logreg_model_prob_prediction = logreg_model.predict_proba(x_test_vec)[:, 1]\n",
        "\n",
        "logreg_model_sentiment_prediction = pd.DataFrame(columns=['text', 'score', 'target_sentiment', 'sentiment'])\n",
        "logreg_model_sentiment_prediction['text'] = x_test_backup\n",
        "logreg_model_sentiment_prediction['score'] = logreg_model_prob_prediction\n",
        "logreg_model_sentiment_prediction['target_sentiment'] = y_test\n",
        "logreg_model_sentiment_prediction['sentiment'] = logreg_model_sentiment_prediction['score'].apply(\n",
        "      lambda x: 'strongly positive' if x > 0.80 else (\n",
        "          'weakly positive' if x > 0.60 else (\n",
        "              'neutral' if x > 0.40 else (\n",
        "                  'weakly negative' if x > 0.20 else 'strongly negative'\n",
        "                  )\n",
        "              )\n",
        "          )\n",
        "    )\n",
        "\n",
        "logreg_model_sentiment_prediction.sample(10)"
      ],
      "metadata": {
        "colab": {
          "base_uri": "https://localhost:8080/",
          "height": 363
        },
        "id": "HLLHP1azbqpd",
        "outputId": "c96f76d8-9f84-4b7d-cc13-8be02f7c4958"
      },
      "execution_count": 252,
      "outputs": [
        {
          "output_type": "execute_result",
          "data": {
            "text/plain": [
              "                                                      text     score  \\\n",
              "642212   @cherrydaily I will!!!! me and ben will come l...  0.839678   \n",
              "1201115  @JACKtheTRIPPER ur not following me me, thus i...  0.923143   \n",
              "1213084              @Peachiemoon yes, and it was awesome   0.916587   \n",
              "595124   @garpods22 but we still aren't up there  I don...  0.208505   \n",
              "936523   (@canbernard) lol after i sent that last tweet...  0.741240   \n",
              "1501963           @xxLOVExxPEACE hahahaha!  im good ! you?  0.726593   \n",
              "522281   @HamletDRC I have a knot in my stomach just fr...  0.417255   \n",
              "1084333  tell all yr friends to follow me on twitter th...  0.977099   \n",
              "663897   Fuck you, allergies! I can hardly even hear be...  0.238771   \n",
              "642376   what a nice sunny day it is, shame i have to w...  0.370050   \n",
              "\n",
              "        target_sentiment          sentiment  \n",
              "642212          negative  strongly positive  \n",
              "1201115         positive  strongly positive  \n",
              "1213084         positive  strongly positive  \n",
              "595124          negative    weakly negative  \n",
              "936523          positive    weakly positive  \n",
              "1501963         positive    weakly positive  \n",
              "522281          negative            neutral  \n",
              "1084333         positive  strongly positive  \n",
              "663897          negative    weakly negative  \n",
              "642376          negative    weakly negative  "
            ],
            "text/html": [
              "\n",
              "  <div id=\"df-a0b01444-419a-4157-8c76-493228f23483\" class=\"colab-df-container\">\n",
              "    <div>\n",
              "<style scoped>\n",
              "    .dataframe tbody tr th:only-of-type {\n",
              "        vertical-align: middle;\n",
              "    }\n",
              "\n",
              "    .dataframe tbody tr th {\n",
              "        vertical-align: top;\n",
              "    }\n",
              "\n",
              "    .dataframe thead th {\n",
              "        text-align: right;\n",
              "    }\n",
              "</style>\n",
              "<table border=\"1\" class=\"dataframe\">\n",
              "  <thead>\n",
              "    <tr style=\"text-align: right;\">\n",
              "      <th></th>\n",
              "      <th>text</th>\n",
              "      <th>score</th>\n",
              "      <th>target_sentiment</th>\n",
              "      <th>sentiment</th>\n",
              "    </tr>\n",
              "  </thead>\n",
              "  <tbody>\n",
              "    <tr>\n",
              "      <th>642212</th>\n",
              "      <td>@cherrydaily I will!!!! me and ben will come l...</td>\n",
              "      <td>0.839678</td>\n",
              "      <td>negative</td>\n",
              "      <td>strongly positive</td>\n",
              "    </tr>\n",
              "    <tr>\n",
              "      <th>1201115</th>\n",
              "      <td>@JACKtheTRIPPER ur not following me me, thus i...</td>\n",
              "      <td>0.923143</td>\n",
              "      <td>positive</td>\n",
              "      <td>strongly positive</td>\n",
              "    </tr>\n",
              "    <tr>\n",
              "      <th>1213084</th>\n",
              "      <td>@Peachiemoon yes, and it was awesome</td>\n",
              "      <td>0.916587</td>\n",
              "      <td>positive</td>\n",
              "      <td>strongly positive</td>\n",
              "    </tr>\n",
              "    <tr>\n",
              "      <th>595124</th>\n",
              "      <td>@garpods22 but we still aren't up there  I don...</td>\n",
              "      <td>0.208505</td>\n",
              "      <td>negative</td>\n",
              "      <td>weakly negative</td>\n",
              "    </tr>\n",
              "    <tr>\n",
              "      <th>936523</th>\n",
              "      <td>(@canbernard) lol after i sent that last tweet...</td>\n",
              "      <td>0.741240</td>\n",
              "      <td>positive</td>\n",
              "      <td>weakly positive</td>\n",
              "    </tr>\n",
              "    <tr>\n",
              "      <th>1501963</th>\n",
              "      <td>@xxLOVExxPEACE hahahaha!  im good ! you?</td>\n",
              "      <td>0.726593</td>\n",
              "      <td>positive</td>\n",
              "      <td>weakly positive</td>\n",
              "    </tr>\n",
              "    <tr>\n",
              "      <th>522281</th>\n",
              "      <td>@HamletDRC I have a knot in my stomach just fr...</td>\n",
              "      <td>0.417255</td>\n",
              "      <td>negative</td>\n",
              "      <td>neutral</td>\n",
              "    </tr>\n",
              "    <tr>\n",
              "      <th>1084333</th>\n",
              "      <td>tell all yr friends to follow me on twitter th...</td>\n",
              "      <td>0.977099</td>\n",
              "      <td>positive</td>\n",
              "      <td>strongly positive</td>\n",
              "    </tr>\n",
              "    <tr>\n",
              "      <th>663897</th>\n",
              "      <td>Fuck you, allergies! I can hardly even hear be...</td>\n",
              "      <td>0.238771</td>\n",
              "      <td>negative</td>\n",
              "      <td>weakly negative</td>\n",
              "    </tr>\n",
              "    <tr>\n",
              "      <th>642376</th>\n",
              "      <td>what a nice sunny day it is, shame i have to w...</td>\n",
              "      <td>0.370050</td>\n",
              "      <td>negative</td>\n",
              "      <td>weakly negative</td>\n",
              "    </tr>\n",
              "  </tbody>\n",
              "</table>\n",
              "</div>\n",
              "    <div class=\"colab-df-buttons\">\n",
              "\n",
              "  <div class=\"colab-df-container\">\n",
              "    <button class=\"colab-df-convert\" onclick=\"convertToInteractive('df-a0b01444-419a-4157-8c76-493228f23483')\"\n",
              "            title=\"Convert this dataframe to an interactive table.\"\n",
              "            style=\"display:none;\">\n",
              "\n",
              "  <svg xmlns=\"http://www.w3.org/2000/svg\" height=\"24px\" viewBox=\"0 -960 960 960\">\n",
              "    <path d=\"M120-120v-720h720v720H120Zm60-500h600v-160H180v160Zm220 220h160v-160H400v160Zm0 220h160v-160H400v160ZM180-400h160v-160H180v160Zm440 0h160v-160H620v160ZM180-180h160v-160H180v160Zm440 0h160v-160H620v160Z\"/>\n",
              "  </svg>\n",
              "    </button>\n",
              "\n",
              "  <style>\n",
              "    .colab-df-container {\n",
              "      display:flex;\n",
              "      gap: 12px;\n",
              "    }\n",
              "\n",
              "    .colab-df-convert {\n",
              "      background-color: #E8F0FE;\n",
              "      border: none;\n",
              "      border-radius: 50%;\n",
              "      cursor: pointer;\n",
              "      display: none;\n",
              "      fill: #1967D2;\n",
              "      height: 32px;\n",
              "      padding: 0 0 0 0;\n",
              "      width: 32px;\n",
              "    }\n",
              "\n",
              "    .colab-df-convert:hover {\n",
              "      background-color: #E2EBFA;\n",
              "      box-shadow: 0px 1px 2px rgba(60, 64, 67, 0.3), 0px 1px 3px 1px rgba(60, 64, 67, 0.15);\n",
              "      fill: #174EA6;\n",
              "    }\n",
              "\n",
              "    .colab-df-buttons div {\n",
              "      margin-bottom: 4px;\n",
              "    }\n",
              "\n",
              "    [theme=dark] .colab-df-convert {\n",
              "      background-color: #3B4455;\n",
              "      fill: #D2E3FC;\n",
              "    }\n",
              "\n",
              "    [theme=dark] .colab-df-convert:hover {\n",
              "      background-color: #434B5C;\n",
              "      box-shadow: 0px 1px 3px 1px rgba(0, 0, 0, 0.15);\n",
              "      filter: drop-shadow(0px 1px 2px rgba(0, 0, 0, 0.3));\n",
              "      fill: #FFFFFF;\n",
              "    }\n",
              "  </style>\n",
              "\n",
              "    <script>\n",
              "      const buttonEl =\n",
              "        document.querySelector('#df-a0b01444-419a-4157-8c76-493228f23483 button.colab-df-convert');\n",
              "      buttonEl.style.display =\n",
              "        google.colab.kernel.accessAllowed ? 'block' : 'none';\n",
              "\n",
              "      async function convertToInteractive(key) {\n",
              "        const element = document.querySelector('#df-a0b01444-419a-4157-8c76-493228f23483');\n",
              "        const dataTable =\n",
              "          await google.colab.kernel.invokeFunction('convertToInteractive',\n",
              "                                                    [key], {});\n",
              "        if (!dataTable) return;\n",
              "\n",
              "        const docLinkHtml = 'Like what you see? Visit the ' +\n",
              "          '<a target=\"_blank\" href=https://colab.research.google.com/notebooks/data_table.ipynb>data table notebook</a>'\n",
              "          + ' to learn more about interactive tables.';\n",
              "        element.innerHTML = '';\n",
              "        dataTable['output_type'] = 'display_data';\n",
              "        await google.colab.output.renderOutput(dataTable, element);\n",
              "        const docLink = document.createElement('div');\n",
              "        docLink.innerHTML = docLinkHtml;\n",
              "        element.appendChild(docLink);\n",
              "      }\n",
              "    </script>\n",
              "  </div>\n",
              "\n",
              "\n",
              "<div id=\"df-418958e1-c6d9-4820-9be9-849edb4223ad\">\n",
              "  <button class=\"colab-df-quickchart\" onclick=\"quickchart('df-418958e1-c6d9-4820-9be9-849edb4223ad')\"\n",
              "            title=\"Suggest charts\"\n",
              "            style=\"display:none;\">\n",
              "\n",
              "<svg xmlns=\"http://www.w3.org/2000/svg\" height=\"24px\"viewBox=\"0 0 24 24\"\n",
              "     width=\"24px\">\n",
              "    <g>\n",
              "        <path d=\"M19 3H5c-1.1 0-2 .9-2 2v14c0 1.1.9 2 2 2h14c1.1 0 2-.9 2-2V5c0-1.1-.9-2-2-2zM9 17H7v-7h2v7zm4 0h-2V7h2v10zm4 0h-2v-4h2v4z\"/>\n",
              "    </g>\n",
              "</svg>\n",
              "  </button>\n",
              "\n",
              "<style>\n",
              "  .colab-df-quickchart {\n",
              "      --bg-color: #E8F0FE;\n",
              "      --fill-color: #1967D2;\n",
              "      --hover-bg-color: #E2EBFA;\n",
              "      --hover-fill-color: #174EA6;\n",
              "      --disabled-fill-color: #AAA;\n",
              "      --disabled-bg-color: #DDD;\n",
              "  }\n",
              "\n",
              "  [theme=dark] .colab-df-quickchart {\n",
              "      --bg-color: #3B4455;\n",
              "      --fill-color: #D2E3FC;\n",
              "      --hover-bg-color: #434B5C;\n",
              "      --hover-fill-color: #FFFFFF;\n",
              "      --disabled-bg-color: #3B4455;\n",
              "      --disabled-fill-color: #666;\n",
              "  }\n",
              "\n",
              "  .colab-df-quickchart {\n",
              "    background-color: var(--bg-color);\n",
              "    border: none;\n",
              "    border-radius: 50%;\n",
              "    cursor: pointer;\n",
              "    display: none;\n",
              "    fill: var(--fill-color);\n",
              "    height: 32px;\n",
              "    padding: 0;\n",
              "    width: 32px;\n",
              "  }\n",
              "\n",
              "  .colab-df-quickchart:hover {\n",
              "    background-color: var(--hover-bg-color);\n",
              "    box-shadow: 0 1px 2px rgba(60, 64, 67, 0.3), 0 1px 3px 1px rgba(60, 64, 67, 0.15);\n",
              "    fill: var(--button-hover-fill-color);\n",
              "  }\n",
              "\n",
              "  .colab-df-quickchart-complete:disabled,\n",
              "  .colab-df-quickchart-complete:disabled:hover {\n",
              "    background-color: var(--disabled-bg-color);\n",
              "    fill: var(--disabled-fill-color);\n",
              "    box-shadow: none;\n",
              "  }\n",
              "\n",
              "  .colab-df-spinner {\n",
              "    border: 2px solid var(--fill-color);\n",
              "    border-color: transparent;\n",
              "    border-bottom-color: var(--fill-color);\n",
              "    animation:\n",
              "      spin 1s steps(1) infinite;\n",
              "  }\n",
              "\n",
              "  @keyframes spin {\n",
              "    0% {\n",
              "      border-color: transparent;\n",
              "      border-bottom-color: var(--fill-color);\n",
              "      border-left-color: var(--fill-color);\n",
              "    }\n",
              "    20% {\n",
              "      border-color: transparent;\n",
              "      border-left-color: var(--fill-color);\n",
              "      border-top-color: var(--fill-color);\n",
              "    }\n",
              "    30% {\n",
              "      border-color: transparent;\n",
              "      border-left-color: var(--fill-color);\n",
              "      border-top-color: var(--fill-color);\n",
              "      border-right-color: var(--fill-color);\n",
              "    }\n",
              "    40% {\n",
              "      border-color: transparent;\n",
              "      border-right-color: var(--fill-color);\n",
              "      border-top-color: var(--fill-color);\n",
              "    }\n",
              "    60% {\n",
              "      border-color: transparent;\n",
              "      border-right-color: var(--fill-color);\n",
              "    }\n",
              "    80% {\n",
              "      border-color: transparent;\n",
              "      border-right-color: var(--fill-color);\n",
              "      border-bottom-color: var(--fill-color);\n",
              "    }\n",
              "    90% {\n",
              "      border-color: transparent;\n",
              "      border-bottom-color: var(--fill-color);\n",
              "    }\n",
              "  }\n",
              "</style>\n",
              "\n",
              "  <script>\n",
              "    async function quickchart(key) {\n",
              "      const quickchartButtonEl =\n",
              "        document.querySelector('#' + key + ' button');\n",
              "      quickchartButtonEl.disabled = true;  // To prevent multiple clicks.\n",
              "      quickchartButtonEl.classList.add('colab-df-spinner');\n",
              "      try {\n",
              "        const charts = await google.colab.kernel.invokeFunction(\n",
              "            'suggestCharts', [key], {});\n",
              "      } catch (error) {\n",
              "        console.error('Error during call to suggestCharts:', error);\n",
              "      }\n",
              "      quickchartButtonEl.classList.remove('colab-df-spinner');\n",
              "      quickchartButtonEl.classList.add('colab-df-quickchart-complete');\n",
              "    }\n",
              "    (() => {\n",
              "      let quickchartButtonEl =\n",
              "        document.querySelector('#df-418958e1-c6d9-4820-9be9-849edb4223ad button');\n",
              "      quickchartButtonEl.style.display =\n",
              "        google.colab.kernel.accessAllowed ? 'block' : 'none';\n",
              "    })();\n",
              "  </script>\n",
              "</div>\n",
              "\n",
              "    </div>\n",
              "  </div>\n"
            ],
            "application/vnd.google.colaboratory.intrinsic+json": {
              "type": "dataframe",
              "summary": "{\n  \"name\": \"logreg_model_sentiment_prediction\",\n  \"rows\": 10,\n  \"fields\": [\n    {\n      \"column\": \"text\",\n      \"properties\": {\n        \"dtype\": \"string\",\n        \"num_unique_values\": 10,\n        \"samples\": [\n          \"Fuck you, allergies! I can hardly even hear because of you! \",\n          \"@JACKtheTRIPPER ur not following me me, thus i cannot DM you... but its very easy. Someone very close to you has it and is happy to share \",\n          \"@xxLOVExxPEACE hahahaha!  im good ! you?\"\n        ],\n        \"semantic_type\": \"\",\n        \"description\": \"\"\n      }\n    },\n    {\n      \"column\": \"score\",\n      \"properties\": {\n        \"dtype\": \"number\",\n        \"std\": 0.2976609448862658,\n        \"min\": 0.20850450859528208,\n        \"max\": 0.9770988771364929,\n        \"num_unique_values\": 10,\n        \"samples\": [\n          0.23877076064977076,\n          0.9231426095322174,\n          0.7265931450931098\n        ],\n        \"semantic_type\": \"\",\n        \"description\": \"\"\n      }\n    },\n    {\n      \"column\": \"target_sentiment\",\n      \"properties\": {\n        \"dtype\": \"category\",\n        \"num_unique_values\": 2,\n        \"samples\": [\n          \"positive\",\n          \"negative\"\n        ],\n        \"semantic_type\": \"\",\n        \"description\": \"\"\n      }\n    },\n    {\n      \"column\": \"sentiment\",\n      \"properties\": {\n        \"dtype\": \"category\",\n        \"num_unique_values\": 4,\n        \"samples\": [\n          \"weakly negative\",\n          \"neutral\"\n        ],\n        \"semantic_type\": \"\",\n        \"description\": \"\"\n      }\n    }\n  ]\n}"
            }
          },
          "metadata": {},
          "execution_count": 252
        }
      ]
    },
    {
      "cell_type": "markdown",
      "source": [
        "### LSTM model"
      ],
      "metadata": {
        "id": "ht4M2q9dzC8_"
      }
    },
    {
      "cell_type": "code",
      "source": [
        "x_train_lstm = x_train_backup.copy()\n",
        "x_test_lstm = x_test_backup.copy()\n",
        "\n",
        "x_test_lstm.head(10)"
      ],
      "metadata": {
        "colab": {
          "base_uri": "https://localhost:8080/"
        },
        "id": "SfDYzTM8jUtN",
        "outputId": "dca67085-843a-4245-c972-8c68c88e3493"
      },
      "execution_count": 253,
      "outputs": [
        {
          "output_type": "execute_result",
          "data": {
            "text/plain": [
              "595842     cpr fail day, i turned it off instead of shock...\n",
              "304527     Laying in the bed because I just found out I'v...\n",
              "787676     GRUMPY FUCK. i hate when people take there wee...\n",
              "94473      @lolstephy pls just shutup about splendour n d...\n",
              "698083     @chrisoldroyd Only UK? What about N. America  ...\n",
              "515721     they added a new zodiac sign. i wanna be a sco...\n",
              "1577992    Ooh... IE8 looks kinda flasher than 7, and it ...\n",
              "1557765    snow snow snow snow snow snow snow snow snow y...\n",
              "71941      right, been up half an hour, hang over is not ...\n",
              "1317950    @da_evil ok,u work im gonna check vampire's news \n",
              "Name: text, dtype: object"
            ]
          },
          "metadata": {},
          "execution_count": 253
        }
      ]
    },
    {
      "cell_type": "code",
      "source": [
        "x_train_lstm = x_train_lstm.apply(clean_text)\n",
        "x_test_lstm = x_test_lstm.apply(clean_text)\n",
        "\n",
        "x_train_lstm.head(10)"
      ],
      "metadata": {
        "colab": {
          "base_uri": "https://localhost:8080/"
        },
        "id": "uqRSE9sgliNj",
        "outputId": "711e79e6-ff5b-4c59-a7f9-0dfb2f6463ce"
      },
      "execution_count": 254,
      "outputs": [
        {
          "output_type": "execute_result",
          "data": {
            "text/plain": [
              "1473410    lace coming mango tree resturant last year pap...\n",
              "1021177    yeah going freaking awesome upto much loveyouj...\n",
              "958067              sure twitpic party picture give u detail\n",
              "621438     oh shitttt there still ticket see demi lovato ...\n",
              "1289024                      love wan na blog ill buy camera\n",
              "1080438    okwhen text could ask post ur name account acc...\n",
              "248279                       wish moment really missing babe\n",
              "387726                                              headache\n",
              "1460144           eagerly waiting twilight new moon twilight\n",
              "1296714         link didnt display could repost correct link\n",
              "Name: text, dtype: object"
            ]
          },
          "metadata": {},
          "execution_count": 254
        }
      ]
    },
    {
      "cell_type": "code",
      "source": [
        "# Hyperparameters of the model\n",
        "vocab_size = 3000 # choose based on statistics\n",
        "oov_tok = ''\n",
        "embedding_dim = 100\n",
        "max_length = 200 # choose based on statistics, for example 150 to 200\n",
        "padding_type='post'\n",
        "trunc_type='post'\n",
        "\n",
        "tokenizer = Tokenizer(num_words=vocab_size, oov_token=oov_tok)\n",
        "tokenizer.fit_on_texts(x_train_lstm)\n",
        "word_index = tokenizer.word_index\n",
        "\n",
        "x_train_lstm_seq = tokenizer.texts_to_sequences(x_train_lstm)\n",
        "x_train_lstm_pad = pad_sequences(x_train_lstm_seq, padding=padding_type, maxlen=max_length)\n",
        "\n",
        "x_train_lstm_pad.shape"
      ],
      "metadata": {
        "colab": {
          "base_uri": "https://localhost:8080/"
        },
        "id": "47D4Gt9Us2ia",
        "outputId": "19dbcbb1-1f63-4763-ecaa-50f2a9a20607"
      },
      "execution_count": 255,
      "outputs": [
        {
          "output_type": "execute_result",
          "data": {
            "text/plain": [
              "(15000, 200)"
            ]
          },
          "metadata": {},
          "execution_count": 255
        }
      ]
    },
    {
      "cell_type": "code",
      "source": [
        "x_test_lstm_seq = tokenizer.texts_to_sequences(x_test_lstm)\n",
        "x_test_lstm_pad = pad_sequences(x_test_lstm_seq, padding=padding_type, maxlen=max_length)\n",
        "\n",
        "x_test_lstm_pad.shape"
      ],
      "metadata": {
        "colab": {
          "base_uri": "https://localhost:8080/"
        },
        "id": "y1hSh2B7VQpO",
        "outputId": "615a4cff-c50b-4301-ce6b-de1e5f9de726"
      },
      "execution_count": 256,
      "outputs": [
        {
          "output_type": "execute_result",
          "data": {
            "text/plain": [
              "(5000, 200)"
            ]
          },
          "metadata": {},
          "execution_count": 256
        }
      ]
    },
    {
      "cell_type": "code",
      "source": [
        "lstm_model = Sequential()\n",
        "lstm_model.add(Embedding(vocab_size, embedding_dim, input_length=max_length))\n",
        "# lstm_model.add(SpatialDropout1D(0.4))\n",
        "# lstm_model.add(LSTM(128, dropout=0.2, recurrent_dropout=0.2))\n",
        "lstm_model.add(Bidirectional(LSTM(64)))\n",
        "lstm_model.add(Dense(24, activation='relu'))\n",
        "lstm_model.add(Dense(2, activation='softmax'))\n",
        "lstm_model.compile(loss='categorical_crossentropy', optimizer='adam', metrics=['accuracy'])\n",
        "\n",
        "lstm_model.summary()"
      ],
      "metadata": {
        "colab": {
          "base_uri": "https://localhost:8080/"
        },
        "id": "ItQJpnkKtTjL",
        "outputId": "0b5f10b0-7929-41d7-b04c-5bd646e7c8d9"
      },
      "execution_count": 260,
      "outputs": [
        {
          "output_type": "stream",
          "name": "stdout",
          "text": [
            "Model: \"sequential_12\"\n",
            "_________________________________________________________________\n",
            " Layer (type)                Output Shape              Param #   \n",
            "=================================================================\n",
            " embedding_12 (Embedding)    (None, 200, 100)          300000    \n",
            "                                                                 \n",
            " bidirectional_6 (Bidirecti  (None, 128)               84480     \n",
            " onal)                                                           \n",
            "                                                                 \n",
            " dense_18 (Dense)            (None, 24)                3096      \n",
            "                                                                 \n",
            " dense_19 (Dense)            (None, 2)                 50        \n",
            "                                                                 \n",
            "=================================================================\n",
            "Total params: 387626 (1.48 MB)\n",
            "Trainable params: 387626 (1.48 MB)\n",
            "Non-trainable params: 0 (0.00 Byte)\n",
            "_________________________________________________________________\n"
          ]
        }
      ]
    },
    {
      "cell_type": "code",
      "source": [
        "y_train_backup = y_train.copy()\n",
        "y_test_backup = y_test.copy()\n",
        "\n",
        "label_encoder = LabelEncoder()\n",
        "y_train_label_encoded = label_encoder.fit_transform(y_train)\n",
        "y_train_label_onehot = to_categorical(y_train_label_encoded)\n",
        "\n",
        "y_test_label_encoded = label_encoder.transform(y_test)\n",
        "y_test_label_onehot = to_categorical(y_test_label_encoded)\n",
        "\n",
        "y_train_label_onehot"
      ],
      "metadata": {
        "colab": {
          "base_uri": "https://localhost:8080/"
        },
        "id": "SsvMiTkirgWy",
        "outputId": "48654913-d997-4145-9f65-658d88f29746"
      },
      "execution_count": 258,
      "outputs": [
        {
          "output_type": "execute_result",
          "data": {
            "text/plain": [
              "array([[0., 1.],\n",
              "       [0., 1.],\n",
              "       [0., 1.],\n",
              "       ...,\n",
              "       [0., 1.],\n",
              "       [0., 1.],\n",
              "       [1., 0.]], dtype=float32)"
            ]
          },
          "metadata": {},
          "execution_count": 258
        }
      ]
    },
    {
      "cell_type": "code",
      "source": [
        "lstm_model.fit(x_train_lstm_pad, y_train_label_onehot, epochs=10, validation_split=0.1)"
      ],
      "metadata": {
        "colab": {
          "base_uri": "https://localhost:8080/"
        },
        "id": "Dw5DqeaXvHQP",
        "outputId": "5a99a117-5947-4d14-b8ff-868e9d783b2c"
      },
      "execution_count": 261,
      "outputs": [
        {
          "output_type": "stream",
          "name": "stdout",
          "text": [
            "Epoch 1/10\n",
            "422/422 [==============================] - 115s 259ms/step - loss: 0.5889 - accuracy: 0.6730 - val_loss: 0.5447 - val_accuracy: 0.7133\n",
            "Epoch 2/10\n",
            "422/422 [==============================] - 109s 258ms/step - loss: 0.4797 - accuracy: 0.7723 - val_loss: 0.5436 - val_accuracy: 0.7220\n",
            "Epoch 3/10\n",
            "422/422 [==============================] - 109s 259ms/step - loss: 0.4325 - accuracy: 0.7993 - val_loss: 0.5549 - val_accuracy: 0.7193\n",
            "Epoch 4/10\n",
            "422/422 [==============================] - 110s 261ms/step - loss: 0.3761 - accuracy: 0.8292 - val_loss: 0.5964 - val_accuracy: 0.7140\n",
            "Epoch 5/10\n",
            "422/422 [==============================] - 109s 257ms/step - loss: 0.3123 - accuracy: 0.8607 - val_loss: 0.6955 - val_accuracy: 0.7113\n",
            "Epoch 6/10\n",
            "422/422 [==============================] - 109s 259ms/step - loss: 0.2620 - accuracy: 0.8831 - val_loss: 0.9060 - val_accuracy: 0.7060\n",
            "Epoch 7/10\n",
            "422/422 [==============================] - 108s 256ms/step - loss: 0.2215 - accuracy: 0.9009 - val_loss: 0.9425 - val_accuracy: 0.6893\n",
            "Epoch 8/10\n",
            "422/422 [==============================] - 109s 258ms/step - loss: 0.1884 - accuracy: 0.9196 - val_loss: 1.1042 - val_accuracy: 0.6953\n",
            "Epoch 9/10\n",
            "422/422 [==============================] - 109s 258ms/step - loss: 0.1583 - accuracy: 0.9286 - val_loss: 1.3630 - val_accuracy: 0.6960\n",
            "Epoch 10/10\n",
            "422/422 [==============================] - 108s 256ms/step - loss: 0.1366 - accuracy: 0.9410 - val_loss: 1.4402 - val_accuracy: 0.7007\n"
          ]
        },
        {
          "output_type": "execute_result",
          "data": {
            "text/plain": [
              "<keras.src.callbacks.History at 0x7cc2646bb6d0>"
            ]
          },
          "metadata": {},
          "execution_count": 261
        }
      ]
    },
    {
      "cell_type": "code",
      "source": [
        "lstm_model.evaluate(x_test_lstm_pad, y_test_label_onehot)"
      ],
      "metadata": {
        "colab": {
          "base_uri": "https://localhost:8080/"
        },
        "id": "uCWrR6grVbsI",
        "outputId": "c30426ee-8fe6-4337-a50f-f38d1adb3b21"
      },
      "execution_count": 262,
      "outputs": [
        {
          "output_type": "stream",
          "name": "stdout",
          "text": [
            "157/157 [==============================] - 11s 70ms/step - loss: 1.5275 - accuracy: 0.6682\n"
          ]
        },
        {
          "output_type": "execute_result",
          "data": {
            "text/plain": [
              "[1.5275145769119263, 0.6682000160217285]"
            ]
          },
          "metadata": {},
          "execution_count": 262
        }
      ]
    }
  ]
}